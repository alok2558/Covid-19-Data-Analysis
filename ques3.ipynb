{
 "cells": [
  {
   "cell_type": "code",
   "execution_count": 22,
   "id": "94d587e2",
   "metadata": {},
   "outputs": [],
   "source": [
    "import pandas as pd\n",
    "import numpy as np\n"
   ]
  },
  {
   "cell_type": "code",
   "execution_count": 23,
   "id": "a9127c03",
   "metadata": {},
   "outputs": [],
   "source": [
    "dfdis =  pd.read_csv(r\"districts.csv\")"
   ]
  },
  {
   "cell_type": "code",
   "execution_count": 24,
   "id": "3b6de0ba",
   "metadata": {},
   "outputs": [
    {
     "data": {
      "text/html": [
       "<div>\n",
       "<style scoped>\n",
       "    .dataframe tbody tr th:only-of-type {\n",
       "        vertical-align: middle;\n",
       "    }\n",
       "\n",
       "    .dataframe tbody tr th {\n",
       "        vertical-align: top;\n",
       "    }\n",
       "\n",
       "    .dataframe thead th {\n",
       "        text-align: right;\n",
       "    }\n",
       "</style>\n",
       "<table border=\"1\" class=\"dataframe\">\n",
       "  <thead>\n",
       "    <tr style=\"text-align: right;\">\n",
       "      <th></th>\n",
       "      <th>Date</th>\n",
       "      <th>State</th>\n",
       "      <th>District</th>\n",
       "      <th>Confirmed</th>\n",
       "      <th>Recovered</th>\n",
       "      <th>Deceased</th>\n",
       "      <th>Other</th>\n",
       "      <th>Tested</th>\n",
       "    </tr>\n",
       "  </thead>\n",
       "  <tbody>\n",
       "    <tr>\n",
       "      <th>0</th>\n",
       "      <td>2020-04-26</td>\n",
       "      <td>Andaman and Nicobar Islands</td>\n",
       "      <td>Unknown</td>\n",
       "      <td>33</td>\n",
       "      <td>11</td>\n",
       "      <td>0</td>\n",
       "      <td>0</td>\n",
       "      <td>NaN</td>\n",
       "    </tr>\n",
       "    <tr>\n",
       "      <th>1</th>\n",
       "      <td>2020-04-26</td>\n",
       "      <td>Andhra Pradesh</td>\n",
       "      <td>Anantapur</td>\n",
       "      <td>53</td>\n",
       "      <td>14</td>\n",
       "      <td>4</td>\n",
       "      <td>0</td>\n",
       "      <td>NaN</td>\n",
       "    </tr>\n",
       "    <tr>\n",
       "      <th>2</th>\n",
       "      <td>2020-04-26</td>\n",
       "      <td>Andhra Pradesh</td>\n",
       "      <td>Chittoor</td>\n",
       "      <td>73</td>\n",
       "      <td>13</td>\n",
       "      <td>0</td>\n",
       "      <td>0</td>\n",
       "      <td>NaN</td>\n",
       "    </tr>\n",
       "    <tr>\n",
       "      <th>3</th>\n",
       "      <td>2020-04-26</td>\n",
       "      <td>Andhra Pradesh</td>\n",
       "      <td>East Godavari</td>\n",
       "      <td>39</td>\n",
       "      <td>12</td>\n",
       "      <td>0</td>\n",
       "      <td>0</td>\n",
       "      <td>NaN</td>\n",
       "    </tr>\n",
       "    <tr>\n",
       "      <th>4</th>\n",
       "      <td>2020-04-26</td>\n",
       "      <td>Andhra Pradesh</td>\n",
       "      <td>Guntur</td>\n",
       "      <td>214</td>\n",
       "      <td>29</td>\n",
       "      <td>8</td>\n",
       "      <td>0</td>\n",
       "      <td>NaN</td>\n",
       "    </tr>\n",
       "  </tbody>\n",
       "</table>\n",
       "</div>"
      ],
      "text/plain": [
       "         Date                        State       District  Confirmed  \\\n",
       "0  2020-04-26  Andaman and Nicobar Islands        Unknown         33   \n",
       "1  2020-04-26               Andhra Pradesh      Anantapur         53   \n",
       "2  2020-04-26               Andhra Pradesh       Chittoor         73   \n",
       "3  2020-04-26               Andhra Pradesh  East Godavari         39   \n",
       "4  2020-04-26               Andhra Pradesh         Guntur        214   \n",
       "\n",
       "   Recovered  Deceased  Other  Tested  \n",
       "0         11         0      0     NaN  \n",
       "1         14         4      0     NaN  \n",
       "2         13         0      0     NaN  \n",
       "3         12         0      0     NaN  \n",
       "4         29         8      0     NaN  "
      ]
     },
     "execution_count": 24,
     "metadata": {},
     "output_type": "execute_result"
    }
   ],
   "source": [
    "dfdis.head()"
   ]
  },
  {
   "cell_type": "code",
   "execution_count": 15,
   "id": "04260c13",
   "metadata": {},
   "outputs": [],
   "source": []
  },
  {
   "cell_type": "code",
   "execution_count": 16,
   "id": "a91e5bbe",
   "metadata": {},
   "outputs": [],
   "source": []
  },
  {
   "cell_type": "code",
   "execution_count": 7,
   "id": "38bcdea8",
   "metadata": {},
   "outputs": [],
   "source": [
    "dfwise = pd.read_csv(r\"district_wise.csv\")"
   ]
  },
  {
   "cell_type": "code",
   "execution_count": 8,
   "id": "d49aebe9",
   "metadata": {},
   "outputs": [],
   "source": []
  },
  {
   "cell_type": "code",
   "execution_count": 26,
   "id": "f438a0f6",
   "metadata": {},
   "outputs": [
    {
     "data": {
      "text/html": [
       "<div>\n",
       "<style scoped>\n",
       "    .dataframe tbody tr th:only-of-type {\n",
       "        vertical-align: middle;\n",
       "    }\n",
       "\n",
       "    .dataframe tbody tr th {\n",
       "        vertical-align: top;\n",
       "    }\n",
       "\n",
       "    .dataframe thead th {\n",
       "        text-align: right;\n",
       "    }\n",
       "</style>\n",
       "<table border=\"1\" class=\"dataframe\">\n",
       "  <thead>\n",
       "    <tr style=\"text-align: right;\">\n",
       "      <th></th>\n",
       "      <th>District_Key</th>\n",
       "      <th>District</th>\n",
       "    </tr>\n",
       "  </thead>\n",
       "  <tbody>\n",
       "    <tr>\n",
       "      <th>0</th>\n",
       "      <td>UN_Unassigned</td>\n",
       "      <td>Unassigned</td>\n",
       "    </tr>\n",
       "    <tr>\n",
       "      <th>1</th>\n",
       "      <td>AN_Nicobars</td>\n",
       "      <td>Nicobars</td>\n",
       "    </tr>\n",
       "    <tr>\n",
       "      <th>2</th>\n",
       "      <td>AN_North and Middle Andaman</td>\n",
       "      <td>North and Middle Andaman</td>\n",
       "    </tr>\n",
       "    <tr>\n",
       "      <th>3</th>\n",
       "      <td>AN_South Andaman</td>\n",
       "      <td>South Andaman</td>\n",
       "    </tr>\n",
       "    <tr>\n",
       "      <th>4</th>\n",
       "      <td>AP_Foreign Evacuees</td>\n",
       "      <td>Foreign Evacuees</td>\n",
       "    </tr>\n",
       "  </tbody>\n",
       "</table>\n",
       "</div>"
      ],
      "text/plain": [
       "                  District_Key                  District\n",
       "0                UN_Unassigned                Unassigned\n",
       "1                  AN_Nicobars                  Nicobars\n",
       "2  AN_North and Middle Andaman  North and Middle Andaman\n",
       "3             AN_South Andaman             South Andaman\n",
       "4          AP_Foreign Evacuees          Foreign Evacuees"
      ]
     },
     "execution_count": 26,
     "metadata": {},
     "output_type": "execute_result"
    }
   ],
   "source": [
    "\n",
    "dfwise = dfwise.loc[:,['District_Key','District']]\n",
    "dfwise.head()"
   ]
  },
  {
   "cell_type": "code",
   "execution_count": null,
   "id": "3abd4430",
   "metadata": {},
   "outputs": [],
   "source": []
  },
  {
   "cell_type": "code",
   "execution_count": 27,
   "id": "5d6d1406",
   "metadata": {},
   "outputs": [],
   "source": [
    "# list of district code is created\n",
    "dis_code = list(dfwise.District_Key.unique())"
   ]
  },
  {
   "cell_type": "code",
   "execution_count": 28,
   "id": "10c374c9",
   "metadata": {},
   "outputs": [],
   "source": [
    "# Daily active cases was determined by  subtracting confirmed cases from recovered and daily deaths\n",
    "dfdis.loc[:,'cases'] = 0"
   ]
  },
  {
   "cell_type": "code",
   "execution_count": 29,
   "id": "f325e1de",
   "metadata": {},
   "outputs": [],
   "source": [
    "dfdis.loc[:,'cases'] = dfdis.loc[:,'Confirmed'] - dfdis.loc[:,'Recovered'] - dfdis.loc[:,'Deceased']"
   ]
  },
  {
   "cell_type": "code",
   "execution_count": null,
   "id": "53fe12fa",
   "metadata": {},
   "outputs": [],
   "source": []
  },
  {
   "cell_type": "code",
   "execution_count": 30,
   "id": "8df2f4e6",
   "metadata": {},
   "outputs": [
    {
     "data": {
      "text/html": [
       "<div>\n",
       "<style scoped>\n",
       "    .dataframe tbody tr th:only-of-type {\n",
       "        vertical-align: middle;\n",
       "    }\n",
       "\n",
       "    .dataframe tbody tr th {\n",
       "        vertical-align: top;\n",
       "    }\n",
       "\n",
       "    .dataframe thead th {\n",
       "        text-align: right;\n",
       "    }\n",
       "</style>\n",
       "<table border=\"1\" class=\"dataframe\">\n",
       "  <thead>\n",
       "    <tr style=\"text-align: right;\">\n",
       "      <th></th>\n",
       "      <th>Date</th>\n",
       "      <th>State</th>\n",
       "      <th>District</th>\n",
       "      <th>Confirmed</th>\n",
       "      <th>Recovered</th>\n",
       "      <th>Deceased</th>\n",
       "      <th>Other</th>\n",
       "      <th>Tested</th>\n",
       "      <th>cases</th>\n",
       "    </tr>\n",
       "  </thead>\n",
       "  <tbody>\n",
       "    <tr>\n",
       "      <th>0</th>\n",
       "      <td>2020-04-26</td>\n",
       "      <td>Andaman and Nicobar Islands</td>\n",
       "      <td>Unknown</td>\n",
       "      <td>33</td>\n",
       "      <td>11</td>\n",
       "      <td>0</td>\n",
       "      <td>0</td>\n",
       "      <td>NaN</td>\n",
       "      <td>22</td>\n",
       "    </tr>\n",
       "    <tr>\n",
       "      <th>1</th>\n",
       "      <td>2020-04-26</td>\n",
       "      <td>Andhra Pradesh</td>\n",
       "      <td>Anantapur</td>\n",
       "      <td>53</td>\n",
       "      <td>14</td>\n",
       "      <td>4</td>\n",
       "      <td>0</td>\n",
       "      <td>NaN</td>\n",
       "      <td>35</td>\n",
       "    </tr>\n",
       "    <tr>\n",
       "      <th>2</th>\n",
       "      <td>2020-04-26</td>\n",
       "      <td>Andhra Pradesh</td>\n",
       "      <td>Chittoor</td>\n",
       "      <td>73</td>\n",
       "      <td>13</td>\n",
       "      <td>0</td>\n",
       "      <td>0</td>\n",
       "      <td>NaN</td>\n",
       "      <td>60</td>\n",
       "    </tr>\n",
       "    <tr>\n",
       "      <th>3</th>\n",
       "      <td>2020-04-26</td>\n",
       "      <td>Andhra Pradesh</td>\n",
       "      <td>East Godavari</td>\n",
       "      <td>39</td>\n",
       "      <td>12</td>\n",
       "      <td>0</td>\n",
       "      <td>0</td>\n",
       "      <td>NaN</td>\n",
       "      <td>27</td>\n",
       "    </tr>\n",
       "    <tr>\n",
       "      <th>4</th>\n",
       "      <td>2020-04-26</td>\n",
       "      <td>Andhra Pradesh</td>\n",
       "      <td>Guntur</td>\n",
       "      <td>214</td>\n",
       "      <td>29</td>\n",
       "      <td>8</td>\n",
       "      <td>0</td>\n",
       "      <td>NaN</td>\n",
       "      <td>177</td>\n",
       "    </tr>\n",
       "  </tbody>\n",
       "</table>\n",
       "</div>"
      ],
      "text/plain": [
       "         Date                        State       District  Confirmed  \\\n",
       "0  2020-04-26  Andaman and Nicobar Islands        Unknown         33   \n",
       "1  2020-04-26               Andhra Pradesh      Anantapur         53   \n",
       "2  2020-04-26               Andhra Pradesh       Chittoor         73   \n",
       "3  2020-04-26               Andhra Pradesh  East Godavari         39   \n",
       "4  2020-04-26               Andhra Pradesh         Guntur        214   \n",
       "\n",
       "   Recovered  Deceased  Other  Tested  cases  \n",
       "0         11         0      0     NaN     22  \n",
       "1         14         4      0     NaN     35  \n",
       "2         13         0      0     NaN     60  \n",
       "3         12         0      0     NaN     27  \n",
       "4         29         8      0     NaN    177  "
      ]
     },
     "execution_count": 30,
     "metadata": {},
     "output_type": "execute_result"
    }
   ],
   "source": [
    "dfdis.head()"
   ]
  },
  {
   "cell_type": "code",
   "execution_count": 31,
   "id": "068bce59",
   "metadata": {},
   "outputs": [],
   "source": [
    "dfdis = dfdis.drop(['State','Recovered','Deceased','Other','Tested'],axis=1)"
   ]
  },
  {
   "cell_type": "code",
   "execution_count": 32,
   "id": "e4c59a43",
   "metadata": {},
   "outputs": [],
   "source": [
    "dfdis  = dfdis.loc[:,['District','Date','cases']]"
   ]
  },
  {
   "cell_type": "code",
   "execution_count": null,
   "id": "4b4e56bc",
   "metadata": {},
   "outputs": [],
   "source": []
  },
  {
   "cell_type": "code",
   "execution_count": null,
   "id": "6e15f51a",
   "metadata": {},
   "outputs": [],
   "source": [
    "\n"
   ]
  },
  {
   "cell_type": "code",
   "execution_count": null,
   "id": "991fc798",
   "metadata": {},
   "outputs": [],
   "source": []
  },
  {
   "cell_type": "code",
   "execution_count": null,
   "id": "2f6ef23c",
   "metadata": {},
   "outputs": [],
   "source": []
  },
  {
   "cell_type": "code",
   "execution_count": 33,
   "id": "7ff5507f",
   "metadata": {},
   "outputs": [],
   "source": [
    "# As covid data was only available form 26-4-2020, so we created dummy data from 15-3-2020 to 25-3-2020\n",
    "import datetime\n",
    "lis = list(dfdis['District'].unique())\n",
    "start_date = datetime.date(2020, 3, 15)\n",
    "end_date = datetime.date(2020, 4, 25)\n",
    "# we decremented date by 1\n",
    "delta = datetime.timedelta(days=1)\n",
    "while start_date <= end_date:\n",
    "    #created a temp data frame and stored the dummy data for a particular day\n",
    "    temp=pd.DataFrame(dict({'Date': end_date,'District': lis,'cases':0}))\n",
    "    dfdis =pd.concat([temp,dfdis], axis=0)\n",
    "    #print(end_date)\n",
    "    end_date -= delta\n",
    "    "
   ]
  },
  {
   "cell_type": "code",
   "execution_count": 34,
   "id": "5d7119e1",
   "metadata": {},
   "outputs": [],
   "source": [
    "# For pandas resampling process, date column was made index of dtat frame\n",
    "dfdis=dfdis.set_index(\"Date\")\n",
    "dfdis.index = pd.to_datetime(dfdis.index)"
   ]
  },
  {
   "cell_type": "code",
   "execution_count": 35,
   "id": "a6d36d54",
   "metadata": {},
   "outputs": [],
   "source": [
    "# data after 14-08-2021 is discared\n",
    "dfdis = dfdis.loc['2020-03-15':'2021-08-15',:]"
   ]
  },
  {
   "cell_type": "code",
   "execution_count": 36,
   "id": "42840db7",
   "metadata": {},
   "outputs": [],
   "source": [
    "dfdis2 = dfdis\n",
    "dfdis3 = dfdis"
   ]
  },
  {
   "cell_type": "code",
   "execution_count": null,
   "id": "46ebe161",
   "metadata": {},
   "outputs": [],
   "source": []
  },
  {
   "cell_type": "code",
   "execution_count": null,
   "id": "b1dc502f",
   "metadata": {},
   "outputs": [],
   "source": []
  },
  {
   "cell_type": "code",
   "execution_count": null,
   "id": "26c4ed27",
   "metadata": {},
   "outputs": [],
   "source": []
  },
  {
   "cell_type": "code",
   "execution_count": 37,
   "id": "838601d3",
   "metadata": {},
   "outputs": [],
   "source": [
    "# dis stores district name for a district code\n",
    "dis = dfwise[dfwise['District_Key']==dis_code[0]]['District']\n",
    "dis = list(dis)[0]\n",
    "# for a particular  district  a separate data frame is created which stores weekly covid active cases\n",
    "temp = dfdis[dfdis.loc[:,'District']==dis]\n",
    "temp = temp.resample('W',closed=\"right\", label=\"right\").max()\n",
    "temp.loc[:,'District'] = dis_code[0]\n",
    "temp = temp.reset_index()\n",
    "l = temp.shape[0]\n",
    "# values of date column were replaced  by integeres 1,2,3.., which represent number of week\n",
    "\n",
    "temp.loc[:,'Date'] = range(1,l+1)\n"
   ]
  },
  {
   "cell_type": "code",
   "execution_count": 42,
   "id": "5e55b9f7",
   "metadata": {},
   "outputs": [
    {
     "data": {
      "text/html": [
       "<div>\n",
       "<style scoped>\n",
       "    .dataframe tbody tr th:only-of-type {\n",
       "        vertical-align: middle;\n",
       "    }\n",
       "\n",
       "    .dataframe tbody tr th {\n",
       "        vertical-align: top;\n",
       "    }\n",
       "\n",
       "    .dataframe thead th {\n",
       "        text-align: right;\n",
       "    }\n",
       "</style>\n",
       "<table border=\"1\" class=\"dataframe\">\n",
       "  <thead>\n",
       "    <tr style=\"text-align: right;\">\n",
       "      <th></th>\n",
       "      <th>Date</th>\n",
       "      <th>District</th>\n",
       "      <th>cases</th>\n",
       "    </tr>\n",
       "  </thead>\n",
       "  <tbody>\n",
       "    <tr>\n",
       "      <th>0</th>\n",
       "      <td>1.0</td>\n",
       "      <td>AP_Foreign Evacuees</td>\n",
       "      <td>0.0</td>\n",
       "    </tr>\n",
       "    <tr>\n",
       "      <th>1</th>\n",
       "      <td>2.0</td>\n",
       "      <td>AP_Foreign Evacuees</td>\n",
       "      <td>0.0</td>\n",
       "    </tr>\n",
       "    <tr>\n",
       "      <th>2</th>\n",
       "      <td>3.0</td>\n",
       "      <td>AP_Foreign Evacuees</td>\n",
       "      <td>0.0</td>\n",
       "    </tr>\n",
       "    <tr>\n",
       "      <th>3</th>\n",
       "      <td>4.0</td>\n",
       "      <td>AP_Foreign Evacuees</td>\n",
       "      <td>0.0</td>\n",
       "    </tr>\n",
       "    <tr>\n",
       "      <th>4</th>\n",
       "      <td>5.0</td>\n",
       "      <td>AP_Foreign Evacuees</td>\n",
       "      <td>0.0</td>\n",
       "    </tr>\n",
       "  </tbody>\n",
       "</table>\n",
       "</div>"
      ],
      "text/plain": [
       "   Date             District  cases\n",
       "0   1.0  AP_Foreign Evacuees    0.0\n",
       "1   2.0  AP_Foreign Evacuees    0.0\n",
       "2   3.0  AP_Foreign Evacuees    0.0\n",
       "3   4.0  AP_Foreign Evacuees    0.0\n",
       "4   5.0  AP_Foreign Evacuees    0.0"
      ]
     },
     "execution_count": 42,
     "metadata": {},
     "output_type": "execute_result"
    }
   ],
   "source": [
    "temp.head()"
   ]
  },
  {
   "cell_type": "code",
   "execution_count": 39,
   "id": "2a77001d",
   "metadata": {},
   "outputs": [],
   "source": [
    "# as active cases for first district is already detemined , we removed that district name from  the dis_code file\n",
    "dis_code = dis_code[1:]\n"
   ]
  },
  {
   "cell_type": "code",
   "execution_count": null,
   "id": "e8596898",
   "metadata": {},
   "outputs": [],
   "source": []
  },
  {
   "cell_type": "code",
   "execution_count": null,
   "id": "35a4b01b",
   "metadata": {},
   "outputs": [],
   "source": []
  },
  {
   "cell_type": "code",
   "execution_count": 40,
   "id": "7d7b3839",
   "metadata": {},
   "outputs": [],
   "source": [
    "# above process was repeated for each district\n",
    "for i in dis_code:\n",
    "    dis = dfwise[dfwise['District_Key']==i]['District']\n",
    "    dis = list(dis)[0]\n",
    "    temp2 = dfdis[dfdis.loc[:,'District']==dis]\n",
    "    temp2 = temp2.resample('W',closed=\"right\", label=\"right\").max()\n",
    "    temp2.loc[:,'District'] = i\n",
    "    temp2 = temp2.reset_index()\n",
    "    l = temp2.shape[0]\n",
    "    temp2.loc[:,'Date'] = range(1,l+1)\n",
    "    temp =pd.concat([temp,temp2], axis=0)\n"
   ]
  },
  {
   "cell_type": "code",
   "execution_count": 41,
   "id": "79819035",
   "metadata": {},
   "outputs": [
    {
     "data": {
      "text/plain": [
       "(52202, 3)"
      ]
     },
     "execution_count": 41,
     "metadata": {},
     "output_type": "execute_result"
    }
   ],
   "source": [
    "temp.shape"
   ]
  },
  {
   "cell_type": "code",
   "execution_count": null,
   "id": "45ecc72f",
   "metadata": {},
   "outputs": [],
   "source": []
  },
  {
   "cell_type": "code",
   "execution_count": 43,
   "id": "89e50e02",
   "metadata": {},
   "outputs": [],
   "source": [
    "temp.rename(columns = {'Date':'timeid','District':'districtid'}, inplace = True)"
   ]
  },
  {
   "cell_type": "code",
   "execution_count": 44,
   "id": "b45758e0",
   "metadata": {},
   "outputs": [],
   "source": [
    "temp = temp.loc[:,['districtid','timeid','cases']]"
   ]
  },
  {
   "cell_type": "code",
   "execution_count": 45,
   "id": "8b7b71fd",
   "metadata": {},
   "outputs": [],
   "source": [
    "temp.to_csv('cases-week.csv', index=False)"
   ]
  },
  {
   "cell_type": "code",
   "execution_count": null,
   "id": "e5b4976b",
   "metadata": {},
   "outputs": [],
   "source": []
  },
  {
   "cell_type": "code",
   "execution_count": 46,
   "id": "4497232e",
   "metadata": {},
   "outputs": [
    {
     "data": {
      "text/html": [
       "<div>\n",
       "<style scoped>\n",
       "    .dataframe tbody tr th:only-of-type {\n",
       "        vertical-align: middle;\n",
       "    }\n",
       "\n",
       "    .dataframe tbody tr th {\n",
       "        vertical-align: top;\n",
       "    }\n",
       "\n",
       "    .dataframe thead th {\n",
       "        text-align: right;\n",
       "    }\n",
       "</style>\n",
       "<table border=\"1\" class=\"dataframe\">\n",
       "  <thead>\n",
       "    <tr style=\"text-align: right;\">\n",
       "      <th></th>\n",
       "      <th>District</th>\n",
       "      <th>cases</th>\n",
       "    </tr>\n",
       "    <tr>\n",
       "      <th>Date</th>\n",
       "      <th></th>\n",
       "      <th></th>\n",
       "    </tr>\n",
       "  </thead>\n",
       "  <tbody>\n",
       "    <tr>\n",
       "      <th>2020-03-15</th>\n",
       "      <td>Unknown</td>\n",
       "      <td>0</td>\n",
       "    </tr>\n",
       "    <tr>\n",
       "      <th>2020-03-15</th>\n",
       "      <td>Anantapur</td>\n",
       "      <td>0</td>\n",
       "    </tr>\n",
       "    <tr>\n",
       "      <th>2020-03-15</th>\n",
       "      <td>Chittoor</td>\n",
       "      <td>0</td>\n",
       "    </tr>\n",
       "    <tr>\n",
       "      <th>2020-03-15</th>\n",
       "      <td>East Godavari</td>\n",
       "      <td>0</td>\n",
       "    </tr>\n",
       "    <tr>\n",
       "      <th>2020-03-15</th>\n",
       "      <td>Guntur</td>\n",
       "      <td>0</td>\n",
       "    </tr>\n",
       "  </tbody>\n",
       "</table>\n",
       "</div>"
      ],
      "text/plain": [
       "                 District  cases\n",
       "Date                            \n",
       "2020-03-15        Unknown      0\n",
       "2020-03-15      Anantapur      0\n",
       "2020-03-15       Chittoor      0\n",
       "2020-03-15  East Godavari      0\n",
       "2020-03-15         Guntur      0"
      ]
     },
     "execution_count": 46,
     "metadata": {},
     "output_type": "execute_result"
    }
   ],
   "source": [
    "dfdis2.head()"
   ]
  },
  {
   "cell_type": "code",
   "execution_count": 18,
   "id": "0f58a082",
   "metadata": {},
   "outputs": [],
   "source": [
    "# Daily active cases was determined by  subtracting confirmed cases from recovered and daily deaths\n",
    "dfdis2.loc[:,'cases'] = dfdis2.loc[:,'Confirmed'] - dfdis2.loc[:,'Recovered'] - dfdis.loc[:,'Deceased']\n"
   ]
  },
  {
   "cell_type": "code",
   "execution_count": 19,
   "id": "b8eb411a",
   "metadata": {},
   "outputs": [],
   "source": [
    "dfdis2 = dfdis2.iloc[:,[0,2,8]]"
   ]
  },
  {
   "cell_type": "code",
   "execution_count": 20,
   "id": "20b7e72c",
   "metadata": {},
   "outputs": [],
   "source": [
    "dfwise2 = dfwise2.loc[:,['District_Key','District']]"
   ]
  },
  {
   "cell_type": "code",
   "execution_count": 47,
   "id": "8b0ed0ad",
   "metadata": {},
   "outputs": [],
   "source": [
    "dis_code = list(dfwise.District_Key.unique())"
   ]
  },
  {
   "cell_type": "code",
   "execution_count": 48,
   "id": "7ec8e000",
   "metadata": {},
   "outputs": [],
   "source": [
    "# dis stores district name for a district code\n",
    "dis = dfwise[dfwise['District_Key']==dis_code[0]]['District']\n",
    "dis = list(dis)[0]\n",
    "# for a particular  district  a separate data frame is created which stores weekly covid active cases\n",
    "temp = dfdis[dfdis.loc[:,'District']==dis]\n",
    "# resmapling was done by month\n",
    "temp = temp.resample('M',closed=\"right\", label=\"right\").max()\n",
    "temp.loc[:,'District'] = dis_code[0]\n",
    "temp = temp.reset_index()\n",
    "l = temp.shape[0]\n",
    "# values of date column were replaced  by integeres 1,2,3.., which represent number of week\n",
    "\n",
    "temp.loc[:,'Date'] = range(1,l+1)"
   ]
  },
  {
   "cell_type": "code",
   "execution_count": 49,
   "id": "74f32e41",
   "metadata": {},
   "outputs": [],
   "source": [
    "dis_code = dis_code[1:]"
   ]
  },
  {
   "cell_type": "code",
   "execution_count": 50,
   "id": "ad9d3f2f",
   "metadata": {},
   "outputs": [],
   "source": [
    "for i in dis_code:\n",
    "    dis = dfwise[dfwise['District_Key']==i]['District']\n",
    "    dis = list(dis)[0]\n",
    "    temp2 = dfdis[dfdis.loc[:,'District']==dis]\n",
    "    temp2 = temp2.resample('M',closed=\"right\", label=\"right\").max()\n",
    "    temp2.loc[:,'District'] = i\n",
    "    temp2 = temp2.reset_index()\n",
    "    l = temp2.shape[0]\n",
    "    temp2.loc[:,'Date'] = range(1,l+1)\n",
    "    temp =pd.concat([temp,temp2], axis=0)\n"
   ]
  },
  {
   "cell_type": "code",
   "execution_count": 53,
   "id": "ecf1c8ff",
   "metadata": {},
   "outputs": [
    {
     "data": {
      "text/html": [
       "<div>\n",
       "<style scoped>\n",
       "    .dataframe tbody tr th:only-of-type {\n",
       "        vertical-align: middle;\n",
       "    }\n",
       "\n",
       "    .dataframe tbody tr th {\n",
       "        vertical-align: top;\n",
       "    }\n",
       "\n",
       "    .dataframe thead th {\n",
       "        text-align: right;\n",
       "    }\n",
       "</style>\n",
       "<table border=\"1\" class=\"dataframe\">\n",
       "  <thead>\n",
       "    <tr style=\"text-align: right;\">\n",
       "      <th></th>\n",
       "      <th>Date</th>\n",
       "      <th>District</th>\n",
       "      <th>cases</th>\n",
       "    </tr>\n",
       "  </thead>\n",
       "  <tbody>\n",
       "    <tr>\n",
       "      <th>0</th>\n",
       "      <td>1.0</td>\n",
       "      <td>AP_Foreign Evacuees</td>\n",
       "      <td>0.0</td>\n",
       "    </tr>\n",
       "    <tr>\n",
       "      <th>1</th>\n",
       "      <td>2.0</td>\n",
       "      <td>AP_Foreign Evacuees</td>\n",
       "      <td>0.0</td>\n",
       "    </tr>\n",
       "    <tr>\n",
       "      <th>2</th>\n",
       "      <td>3.0</td>\n",
       "      <td>AP_Foreign Evacuees</td>\n",
       "      <td>111.0</td>\n",
       "    </tr>\n",
       "    <tr>\n",
       "      <th>3</th>\n",
       "      <td>4.0</td>\n",
       "      <td>AP_Foreign Evacuees</td>\n",
       "      <td>297.0</td>\n",
       "    </tr>\n",
       "    <tr>\n",
       "      <th>4</th>\n",
       "      <td>5.0</td>\n",
       "      <td>AP_Foreign Evacuees</td>\n",
       "      <td>302.0</td>\n",
       "    </tr>\n",
       "  </tbody>\n",
       "</table>\n",
       "</div>"
      ],
      "text/plain": [
       "   Date             District  cases\n",
       "0   1.0  AP_Foreign Evacuees    0.0\n",
       "1   2.0  AP_Foreign Evacuees    0.0\n",
       "2   3.0  AP_Foreign Evacuees  111.0\n",
       "3   4.0  AP_Foreign Evacuees  297.0\n",
       "4   5.0  AP_Foreign Evacuees  302.0"
      ]
     },
     "execution_count": 53,
     "metadata": {},
     "output_type": "execute_result"
    }
   ],
   "source": [
    "temp.head()"
   ]
  },
  {
   "cell_type": "code",
   "execution_count": 54,
   "id": "d2a12d0d",
   "metadata": {},
   "outputs": [],
   "source": [
    "temp.rename(columns = {'Date':'timeid','District':'districtid'}, inplace = True)"
   ]
  },
  {
   "cell_type": "code",
   "execution_count": 55,
   "id": "f32a1ccc",
   "metadata": {},
   "outputs": [],
   "source": [
    "temp = temp.loc[:,['districtid','timeid','cases']]"
   ]
  },
  {
   "cell_type": "code",
   "execution_count": 56,
   "id": "4d4353c5",
   "metadata": {},
   "outputs": [],
   "source": [
    "temp.to_csv('cases-month.csv', index=False)"
   ]
  },
  {
   "cell_type": "code",
   "execution_count": 67,
   "id": "75a59c61",
   "metadata": {},
   "outputs": [
    {
     "data": {
      "text/html": [
       "<div>\n",
       "<style scoped>\n",
       "    .dataframe tbody tr th:only-of-type {\n",
       "        vertical-align: middle;\n",
       "    }\n",
       "\n",
       "    .dataframe tbody tr th {\n",
       "        vertical-align: top;\n",
       "    }\n",
       "\n",
       "    .dataframe thead th {\n",
       "        text-align: right;\n",
       "    }\n",
       "</style>\n",
       "<table border=\"1\" class=\"dataframe\">\n",
       "  <thead>\n",
       "    <tr style=\"text-align: right;\">\n",
       "      <th></th>\n",
       "      <th>timeid</th>\n",
       "      <th>districtid</th>\n",
       "      <th>cases</th>\n",
       "    </tr>\n",
       "  </thead>\n",
       "  <tbody>\n",
       "    <tr>\n",
       "      <th>0</th>\n",
       "      <td>2021-08-14</td>\n",
       "      <td>Unknown</td>\n",
       "      <td>2</td>\n",
       "    </tr>\n",
       "    <tr>\n",
       "      <th>1</th>\n",
       "      <td>2021-08-14</td>\n",
       "      <td>Anantapur</td>\n",
       "      <td>234</td>\n",
       "    </tr>\n",
       "    <tr>\n",
       "      <th>2</th>\n",
       "      <td>2021-08-14</td>\n",
       "      <td>Chittoor</td>\n",
       "      <td>2550</td>\n",
       "    </tr>\n",
       "    <tr>\n",
       "      <th>3</th>\n",
       "      <td>2021-08-14</td>\n",
       "      <td>East Godavari</td>\n",
       "      <td>3122</td>\n",
       "    </tr>\n",
       "    <tr>\n",
       "      <th>4</th>\n",
       "      <td>2021-08-14</td>\n",
       "      <td>Foreign Evacuees</td>\n",
       "      <td>0</td>\n",
       "    </tr>\n",
       "  </tbody>\n",
       "</table>\n",
       "</div>"
      ],
      "text/plain": [
       "      timeid        districtid  cases\n",
       "0 2021-08-14           Unknown      2\n",
       "1 2021-08-14         Anantapur    234\n",
       "2 2021-08-14          Chittoor   2550\n",
       "3 2021-08-14     East Godavari   3122\n",
       "4 2021-08-14  Foreign Evacuees      0"
      ]
     },
     "execution_count": 67,
     "metadata": {},
     "output_type": "execute_result"
    }
   ],
   "source": [
    "dfdis3.head()"
   ]
  },
  {
   "cell_type": "code",
   "execution_count": 59,
   "id": "c9fb171a",
   "metadata": {},
   "outputs": [],
   "source": [
    "dfdis3 = dfdis3.loc['2021-08-14',:]"
   ]
  },
  {
   "cell_type": "code",
   "execution_count": 64,
   "id": "53abf24f",
   "metadata": {},
   "outputs": [],
   "source": [
    "dfdis3 = dfdis3.reset_index()\n"
   ]
  },
  {
   "cell_type": "code",
   "execution_count": 66,
   "id": "afe29dc3",
   "metadata": {},
   "outputs": [],
   "source": [
    "dfdis3.rename(columns = {'Date':'timeid','District':'districtid'}, inplace = True)"
   ]
  },
  {
   "cell_type": "code",
   "execution_count": 68,
   "id": "8e6f60c0",
   "metadata": {},
   "outputs": [],
   "source": [
    "dfdis3.to_csv('cases-overall.csv', index=False)\n",
    "    "
   ]
  },
  {
   "cell_type": "code",
   "execution_count": null,
   "id": "aee2cdbe",
   "metadata": {},
   "outputs": [],
   "source": []
  }
 ],
 "metadata": {
  "kernelspec": {
   "display_name": "Python 3",
   "language": "python",
   "name": "python3"
  },
  "language_info": {
   "codemirror_mode": {
    "name": "ipython",
    "version": 3
   },
   "file_extension": ".py",
   "mimetype": "text/x-python",
   "name": "python",
   "nbconvert_exporter": "python",
   "pygments_lexer": "ipython3",
   "version": "3.8.8"
  }
 },
 "nbformat": 4,
 "nbformat_minor": 5
}
