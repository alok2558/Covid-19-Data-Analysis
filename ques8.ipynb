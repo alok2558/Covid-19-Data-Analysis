{
 "cells": [
  {
   "cell_type": "code",
   "execution_count": 106,
   "id": "95efcd81",
   "metadata": {},
   "outputs": [],
   "source": [
    "import pandas as pd\n",
    "import numpy as np"
   ]
  },
  {
   "cell_type": "code",
   "execution_count": 107,
   "id": "511b502f",
   "metadata": {},
   "outputs": [
    {
     "name": "stderr",
     "output_type": "stream",
     "text": [
      "C:\\Users\\Alok Trivedy\\anaconda3\\lib\\site-packages\\IPython\\core\\interactiveshell.py:3165: DtypeWarning: Columns (6,7,8,9,10,11,12,13,14,15,16,17,18,19,20,21,22,23,24,25,26,27,28,29,30,31,32,33,34,35,36,37,38,39,40,41,42,43,44,45,46,47,48,49,50,51,52,53,54,55,56,57,58,59,60,61,62,63,64,65,66,67,68,69,70,71,72,73,74,75,76,77,78,79,80,81,82,83,84,85,86,87,88,89,90,91,92,93,94,95,96,97,98,99,100,101,102,103,104,105,106,107,108,109,110,111,112,113,114,115,116,117,118,119,120,121,122,123,124,125,126,127,128,129,130,131,132,133,134,135,136,137,138,139,140,141,142,143,144,145,146,147,148,149,150,151,152,153,154,155,156,157,158,159,160,161,162,163,164,165,166,167,168,169,170,171,172,173,174,175,176,177,178,179,180,181,182,183,184,185,186,187,188,189,190,191,192,193,194,195,196,197,198,199,200,201,202,203,204,205,206,207,208,209,210,211,212,213,214,215,216,217,218,219,220,221,222,223,224,225,226,227,228,229,230,231,232,233,234,235,236,237,238,239,240,241,242,243,244,245,246,247,248,249,250,251,252,253,254,255,256,257,258,259,260,261,262,263,264,265,266,267,268,269,270,271,272,273,274,275,276,277,278,279,280,281,282,283,284,285,286,287,288,289,290,291,292,293,294,295,296,297,298,299,300,301,302,303,304,305,306,307,308,309,310,311,312,313,314,315,316,317,318,319,320,321,322,323,324,325,326,327,328,329,330,331,332,333,334,335,336,337,338,339,340,341,342,343,344,345,346,347,348,349,350,351,352,353,354,355,356,357,358,359,360,361,362,363,364,365,366,367,368,369,370,371,372,373,374,375,376,377,378,379,380,381,382,383,384,385,386,387,388,389,390,391,392,393,394,395,396,397,398,399,400,401,402,403,404,405,406,407,408,409,410,411,412,413,414,415,416,417,418,419,420,421,422,423,424,425,426,427,428,429,430,431,432,433,434,435,436,437,438,439,440,441,442,443,444,445,446,447,448,449,450,451,452,453,454,455,456,457,458,459,460,461,462,463,464,465,466,467,468,469,470,471,472,473,474,475,476,477,478,479,480,481,482,483,484,485,486,487,488,489,490,491,492,493,494,495,496,497,498,499,500,501,502,503,504,505,506,507,508,509,510,511,512,513,514,515,516,517,518,519,520,521,522,523,524,525,526,527,528,529,530,531,532,533,534,535,536,537,538,539,540,541,542,543,544,545,546,547,548,549,550,551,552,553,554,555,556,557,558,559,560,561,562,563,564,565,566,567,568,569,570,571,572,573,574,575,576,577,578,579,580,581,582,583,584,585,586,587,588,589,590,591,592,593,594,595,596,597,598,599,600,601,602,603,604,605,606,607,608,609,610,611,612,613,614,615,616,617,618,619,620,621,622,623,624,625,626,627,628,629,630,631,632,633,634,635,636,637,638,639,640,641,642,643,644,645,646,647,648,649,650,651,652,653,654,655,656,657,658,659,660,661,662,663,664,665,666,667,668,669,670,671,672,673,674,675,676,677,678,679,680,681,682,683,684,685,686,687,688,689,690,691,692,693,694,695,696,697,698,699,700,701,702,703,704,705,706,707,708,709,710,711,712,713,714,715,716,717,718,719,720,721,722,723,724,725,726,727,728,729,730,731,732,733,734,735,736,737,738,739,740,741,742,743,744,745,746,747,748,749,750,751,752,753,754,755,756,757,758,759,760,761,762,763,764,765,766,767,768,769,770,771,772,773,774,775,776,777,778,779,780,781,782,783,784,785,786,787,788,789,790,791,792,793,794,795,796,797,798,799,800,801,802,803,804,805,806,807,808,809,810,811,812,813,814,815,816,817,818,819,820,821,822,823,824,825,826,827,828,829,830,831,832,833,834,835,836,837,838,839,840,841,842,843,844,845,846,847,848,849,850,851,852,853,854,855,856,857,858,859,860,861,862,863,864,865,866,867,868,869,870,871,872,873,874,875,876,877,878,879,880,881,882,883,884,885,886,887,888,889,890,891,892,893,894,895,896,897,898,899,900,901,902,903,904,905,906,907,908,909,910,911,912,913,914,915,916,917,918,919,920,921,922,923,924,925,926,927,928,929,930,931,932,933,934,935,936,937,938,939,940,941,942,943,944,945,946,947,948,949,950,951,952,953,954,955,956,957,958,959,960,961,962,963,964,965,966,967,968,969,970,971,972,973,974,975,976,977,978,979,980,981,982,983,984,985,986,987,988,989,990,991,992,993,994,995,996,997,998,999,1000,1001,1002,1003,1004,1005,1006,1007,1008,1009,1010,1011,1012,1013,1014,1015,1016,1017,1018,1019,1020,1021,1022,1023,1024,1025,1026,1027,1028,1029,1030,1031,1032,1033,1034,1035,1036,1037,1038,1039,1040,1041,1042,1043,1044,1045,1046,1047,1048,1049,1050,1051,1052,1053,1054,1055,1056,1057,1058,1059,1060,1061,1062,1063,1064,1065,1066,1067,1068,1069,1070,1071,1072,1073,1074,1075,1076,1077,1078,1079,1080,1081,1082,1083,1084,1085,1086,1087,1088,1089,1090,1091,1092,1093,1094,1095,1096,1097,1098,1099,1100,1101,1102,1103,1104,1105,1106,1107,1108,1109,1110,1111,1112,1113,1114,1115,1116,1117,1118,1119,1120,1121,1122,1123,1124,1125,1126,1127,1128,1129,1130,1131,1132,1133,1134,1135,1136,1137,1138,1139,1140,1141,1142,1143,1144,1145,1146,1147,1148,1149,1150,1151,1152,1153,1154,1155,1156,1157,1158,1159,1160,1161,1162,1163,1164,1165,1166,1167,1168,1169,1170,1171,1172,1173,1174,1175,1176,1177,1178,1179,1180,1181,1182,1183,1184,1185,1186,1187,1188,1189,1190,1191,1192,1193,1194,1195,1196,1197,1198,1199,1200,1201,1202,1203,1204,1205,1206,1207,1208,1209,1210,1211,1212,1213,1214,1215,1216,1217,1218,1219,1220,1221,1222,1223,1224,1225,1226,1227,1228,1229,1230,1231,1232,1233,1234,1235,1236,1237,1238,1239,1240,1241,1242,1243,1244,1245,1246,1247,1248,1249,1250,1251,1252,1253,1254,1255,1256,1257,1258,1259,1260,1261,1262,1263,1264,1265,1266,1267,1268,1269,1270,1271,1272,1273,1274,1275,1276,1277,1278,1279,1280,1281,1282,1283,1284,1285,1286,1287,1288,1289,1290,1291,1292,1293,1294,1295,1296,1297,1298,1299,1300,1301,1302,1303,1304,1305,1306,1307,1308,1309,1310,1311,1312,1313,1314,1315,1316,1317,1318,1319,1320,1321,1322,1323,1324,1325,1326,1327,1328,1329,1330,1331,1332,1333,1334,1335,1336,1337,1338,1339,1340,1341,1342,1343,1344,1345,1346,1347,1348,1349,1350,1351,1352,1353,1354,1355,1356,1357,1358,1359,1360,1361,1362,1363,1364,1365,1366,1367,1368,1369,1370,1371,1372,1373,1374,1375,1376,1377,1378,1379,1380,1381,1382,1383,1384,1385,1386,1387,1388,1389,1390,1391,1392,1393,1394,1395,1396,1397,1398,1399,1400,1401,1402,1403,1404,1405,1406,1407,1408,1409,1410,1411,1412,1413,1414,1415,1416,1417,1418,1419,1420,1421,1422,1423,1424,1425,1426,1427,1428,1429,1430,1431,1432,1433,1434,1435,1436,1437,1438,1439,1440,1441,1442,1443,1444,1445,1446,1447,1448,1449,1450,1451,1452,1453,1454,1455,1456,1457,1458,1459,1460,1461,1462,1463,1464,1465,1466,1467,1468,1469,1470,1471,1472,1473,1474,1475,1476,1477,1478,1479,1480,1481,1482,1483,1484,1485,1486,1487,1488,1489,1490,1491,1492,1493,1494,1495,1496,1497,1498,1499,1500,1501,1502,1503,1504,1505,1506,1507,1508,1509,1510,1511,1512,1513,1514,1515,1516,1517,1518,1519,1520,1521,1522,1523,1524,1525,1526,1527,1528,1529,1530,1531,1532,1533,1534,1535,1536,1537,1538,1539,1540,1541,1542,1543,1544,1545,1546,1547,1548,1549,1550,1551,1552,1553,1554,1555,1556,1557,1558,1559,1560,1561,1562,1563,1564,1565,1566,1567,1568,1569,1570,1571,1572,1573,1574,1575,1576,1577,1578,1579,1580,1581,1582,1583,1584,1585,1586,1587,1588,1589,1590,1591,1592,1593,1594,1595,1596,1597,1598,1599,1600,1601,1602,1603,1604,1605,1606,1607,1608,1609,1610,1611,1612,1613,1614,1615,1616,1617,1618,1619,1620,1621,1622,1623,1624,1625,1626,1627,1628,1629,1630,1631,1632,1633,1634,1635,1636,1637,1638,1639,1640,1641,1642,1643,1644,1645,1646,1647,1648,1649,1650,1651,1652,1653,1654,1655,1656,1657,1658,1659,1660,1661,1662,1663,1664,1665,1666,1667,1668,1669,1670,1671,1672,1673,1674,1675,1676,1677,1678,1679,1680,1681,1682,1683,1684,1685,1686,1687,1688,1689,1690,1691,1692,1693,1694,1695,1696,1697,1698,1699,1700,1701,1702,1703,1704,1705,1706,1707,1708,1709,1710,1711,1712,1713,1714,1715,1716,1717,1718,1719,1720,1721,1722,1723,1724,1725,1726,1727,1728,1729,1730,1731,1732,1733,1734,1735,1736,1737,1738,1739,1740,1741,1742,1743,1744,1745,1746,1747,1748,1749,1750,1751,1752,1753,1754,1755,1756,1757,1758,1759,1760,1761,1762,1763,1764,1765,1766,1767,1768,1769,1770,1771,1772,1773,1774,1775,1776,1777,1778,1779,1780,1781,1782,1783,1784,1785,1786,1787,1788,1789,1790,1791,1792,1793,1794,1795,1796,1797,1798,1799,1800,1801,1802,1803,1804,1805,1806,1807,1808,1809,1810,1811,1812,1813,1814,1815,1816,1817,1818,1819,1820,1821,1822,1823,1824,1825,1826,1827,1828,1829,1830,1831,1832,1833,1834,1835,1836,1837,1838,1839,1840,1841,1842,1843,1844,1845,1846,1847,1848,1849,1850,1851,1852,1853,1854,1855,1856,1857,1858,1859,1860,1861,1862,1863,1864,1865,1866,1867,1868,1869,1870,1871,1872,1873,1874,1875,1876,1877,1878,1879,1880,1881,1882,1883,1884,1885,1886,1887,1888,1889,1890,1891,1892,1893,1894,1895,1896,1897,1898,1899,1900,1901,1902,1903,1904,1905,1906,1907,1908,1909,1910,1911,1912,1913,1914,1915,1916,1917,1918,1919,1920,1921,1922,1923,1924,1925,1926,1927,1928,1929,1930,1931,1932,1933,1934,1935,1936,1937,1938,1939,1940,1941,1942,1943,1944,1945,1946,1947,1948,1949,1950,1951,1952,1953,1954,1955,1956,1957,1958,1959,1960,1961,1962,1963,1964,1965,1966,1967,1968,1969,1970,1971,1972,1973,1974,1975,1976,1977,1978,1979,1980,1981,1982,1983,1984,1985,1986,1987,1988,1989,1990,1991,1992,1993,1994,1995,1996,1997,1998,1999,2000,2001,2002,2003,2004,2005,2006,2007,2008,2009,2010,2011,2012,2013,2014,2015,2016,2017,2018,2019,2020,2021,2022,2023,2024,2025,2026,2027,2028,2029,2030,2031,2032,2033,2034,2035,2036,2037,2038,2039,2040,2041,2042,2043,2044,2045,2046,2047,2048,2049,2050,2051,2052,2053,2054,2055,2056,2057,2058,2059,2060,2061,2062,2063,2064,2065,2066,2067,2068,2069,2070,2071,2072,2073,2074,2075,2076,2077,2078,2079,2080,2081,2082,2083,2084,2085,2086,2087,2088,2089,2090,2091,2092,2093,2094,2095,2096,2097,2098,2099,2100,2101,2102,2103,2104,2105,2106,2107,2108,2109,2110,2111,2112,2113,2114,2115,2116,2117,2118,2119,2120,2121,2122,2123,2124,2125,2126,2127,2128,2129,2130,2131,2132,2133,2134,2135,2136,2137,2138,2139,2140,2141,2142,2143,2144,2145,2146,2147,2148,2149,2150,2151,2152,2153,2154,2155,2156,2157,2158,2159,2160,2161,2162,2163,2164,2165,2166,2167,2168,2169,2170,2171,2172,2173,2174,2175,2176,2177,2178,2179,2180,2181,2182,2183,2184,2185,2186,2187,2188,2189,2190,2191,2192,2193,2194,2195,2196,2197,2198,2199,2200,2201,2202,2203,2204,2205,2206,2207,2208,2209,2210,2211,2212,2213,2214,2215,2216,2217,2218,2219,2220,2221,2222,2223,2224,2225,2226,2227,2228,2229,2230,2231,2232,2233,2234,2235,2236,2237,2238,2239,2240,2241,2242,2243,2244,2245,2246,2247,2248,2249,2250,2251,2252,2253,2254,2255,2256,2257,2258,2259,2260,2261,2262,2263,2264,2265,2266,2267,2268,2269,2270,2271,2272,2273,2274,2275,2276,2277,2278,2279,2280,2281,2282,2283,2284,2285,2286,2287,2288,2289,2290,2291,2292,2293,2294,2295,2296,2297,2298,2299,2300,2301,2302,2303,2304,2305,2306,2307,2308,2309,2310,2311,2312,2313,2314,2315,2316,2317,2318,2319,2320,2321,2322,2323,2324,2325,2326,2327,2328,2329,2330,2331,2332,2333,2334,2335,2336,2337,2338,2339,2340,2341,2342,2343,2344,2345,2346,2347,2348,2349,2350,2351,2352,2353,2354,2355,2356,2357,2358,2359,2360,2361,2362,2363,2364,2365,2366,2367,2368,2369,2370,2371,2372,2373,2374,2375,2376,2377,2378,2379,2380,2381,2382,2383,2384,2385,2386,2387,2388,2389,2390,2391,2392,2393,2394,2395,2396,2397,2398,2399,2400,2401,2402,2403,2404,2405,2406,2407,2408,2409,2410,2411,2412,2413,2414,2415,2416,2417,2418,2419,2420,2421,2422,2423,2424,2425,2426,2427,2428,2429,2430,2431,2432,2433,2434,2435,2436,2437,2438,2439,2440,2441,2442,2443,2444,2445,2446,2447,2448,2449,2450,2451,2452,2453,2454,2455,2456,2457,2458,2459,2460,2461,2462,2463,2464,2465,2466,2467,2468,2469,2470,2471,2472,2473,2474,2475,2476,2477,2478,2479,2480,2481,2482,2483,2484,2485,2486,2487,2488,2489,2490,2491,2492,2493,2494,2495,2496,2497,2498,2499,2500,2501,2502,2503,2504,2505,2506,2507,2508,2509,2510,2511,2512,2513,2514,2515,2516,2517,2518,2519,2520,2521,2522,2523,2524,2525,2526,2527,2528,2529,2530,2531,2532,2533,2534,2535,2536,2537,2538,2539,2540,2541,2542,2543,2544,2545,2546,2547,2548,2549,2550,2551,2552,2553,2554,2555,2556,2557,2558,2559,2560,2561,2562,2563,2564,2565,2566,2567,2568,2569,2570,2571,2572,2573,2574,2575,2576,2577,2578,2579,2580,2581,2582,2583,2584,2585,2586,2587,2588,2589,2590,2591,2592,2593,2594,2595,2596,2597,2598,2599,2600,2601,2602,2603,2604,2605,2606,2607,2608,2609,2610,2611,2612,2613,2614,2615,2616,2617,2618,2619,2620,2621,2622,2623,2624,2625,2626,2627,2628,2629,2630,2631,2632,2633,2634,2635,2636,2637,2638,2639,2640,2641,2642,2643,2644,2645,2646,2647,2648,2649,2650,2651,2652,2653,2654,2655,2656,2657,2658,2659,2660,2661,2662,2663,2664,2665,2666,2667,2668,2669,2670,2671,2672,2673,2674,2675,2676,2677,2678,2679,2680,2681,2682,2683,2684,2685,2686,2687,2688,2689,2690,2691,2692,2693,2694,2695,2696,2697,2698,2699,2700,2701,2702,2703,2704,2705,2706,2707,2708,2709,2710,2711,2712,2713,2714,2715,2716,2717,2718,2719,2720,2721,2722,2723,2724,2725,2726,2727,2728,2729,2730,2731,2732,2733,2734,2735,2736,2737,2738,2739,2740,2741,2742,2743,2744,2745,2746,2747,2748,2749,2750,2751,2752,2753,2754,2755,2756,2757,2758,2759,2760,2761,2762,2763,2764,2765,2766,2767,2768,2769,2770,2771,2772,2773,2774,2775,2776,2777,2778,2779,2780,2781,2782,2783,2784,2785,2786,2787,2788,2789,2790,2791,2792,2793,2794,2795,2796,2797,2798,2799,2800,2801,2802,2803,2804,2805,2806,2807,2808,2809,2810,2811,2812,2813,2814,2815,2816,2817,2818,2819,2820,2821,2822,2823,2824,2825,2826,2827,2828,2829,2830,2831,2832,2833,2834,2835,2836,2837,2838,2839,2840,2841,2842,2843,2844,2845,2846,2847,2848,2849,2850,2851,2852,2853,2854,2855,2856,2857,2858,2859,2860,2861,2862,2863,2864,2865,2866,2867,2868,2869,2870,2871,2872,2873,2874,2875,2876,2877,2878,2879,2880,2881,2882,2883,2884,2885,2886,2887,2888,2889,2890,2891,2892,2893,2894,2895) have mixed types.Specify dtype option on import or set low_memory=False.\n",
      "  has_raised = await self.run_ast_nodes(code_ast.body, cell_name,\n"
     ]
    }
   ],
   "source": [
    "url ='http://data.covid19india.org/csv/latest/cowin_vaccine_data_districtwise.csv'\n",
    "# vaccine data stored in dfvac\n",
    "dfvac = pd.read_csv(url,error_bad_lines = False)"
   ]
  },
  {
   "cell_type": "code",
   "execution_count": 108,
   "id": "b3110fcb",
   "metadata": {},
   "outputs": [],
   "source": [
    "dfvac2 = dfvac"
   ]
  },
  {
   "cell_type": "code",
   "execution_count": 109,
   "id": "1fbe106d",
   "metadata": {},
   "outputs": [],
   "source": [
    "# 2011 population data\n",
    "dfs = pd.read_excel(r'C:\\Users\\Alok Trivedy\\DDW_PCA0000_2011_Indiastatedist.xlsx', sheet_name='Sheet1')"
   ]
  },
  {
   "cell_type": "code",
   "execution_count": 110,
   "id": "26ab840e",
   "metadata": {},
   "outputs": [],
   "source": [
    "dfpind = dfs.loc[[0],['Level','TOT_P']]"
   ]
  },
  {
   "cell_type": "code",
   "execution_count": 111,
   "id": "ef427f6c",
   "metadata": {},
   "outputs": [],
   "source": [
    "#For analysing district we are using modified census data where some of the district has corrected spellings and some of the districts has been added\n",
    "dfc = pd.read_excel(r'C:\\Users\\Alok Trivedy\\census.xlsx', sheet_name='Sheet1')"
   ]
  },
  {
   "cell_type": "code",
   "execution_count": 112,
   "id": "8b9266cb",
   "metadata": {},
   "outputs": [],
   "source": [
    "dfc1 = dfc[dfc['Level'] == 'DISTRICT']\n",
    "dfc2 = dfc1[dfc1['TRU'] == 'Total']\n",
    "# district wise population data\n",
    "dfc3 = dfc2.loc[:,['Name','TOT_P']]"
   ]
  },
  {
   "cell_type": "code",
   "execution_count": null,
   "id": "4d234ec5",
   "metadata": {},
   "outputs": [],
   "source": []
  },
  {
   "cell_type": "code",
   "execution_count": 113,
   "id": "2e90635a",
   "metadata": {},
   "outputs": [],
   "source": [
    "dfst1 = dfs[dfs['Level'] == 'STATE']\n",
    "dfst2 = dfst1[dfst1['TRU'] == 'Total']\n",
    "# state wise populationm data\n",
    "dfstp = dfst2.loc[:,['Name','TOT_P']]"
   ]
  },
  {
   "cell_type": "code",
   "execution_count": 114,
   "id": "d1f5dd08",
   "metadata": {},
   "outputs": [
    {
     "data": {
      "text/html": [
       "<div>\n",
       "<style scoped>\n",
       "    .dataframe tbody tr th:only-of-type {\n",
       "        vertical-align: middle;\n",
       "    }\n",
       "\n",
       "    .dataframe tbody tr th {\n",
       "        vertical-align: top;\n",
       "    }\n",
       "\n",
       "    .dataframe thead th {\n",
       "        text-align: right;\n",
       "    }\n",
       "</style>\n",
       "<table border=\"1\" class=\"dataframe\">\n",
       "  <thead>\n",
       "    <tr style=\"text-align: right;\">\n",
       "      <th></th>\n",
       "      <th>Name</th>\n",
       "      <th>TOT_P</th>\n",
       "    </tr>\n",
       "  </thead>\n",
       "  <tbody>\n",
       "    <tr>\n",
       "      <th>6</th>\n",
       "      <td>Kupwara</td>\n",
       "      <td>870354</td>\n",
       "    </tr>\n",
       "    <tr>\n",
       "      <th>9</th>\n",
       "      <td>Budgam</td>\n",
       "      <td>753745</td>\n",
       "    </tr>\n",
       "    <tr>\n",
       "      <th>12</th>\n",
       "      <td>Leh</td>\n",
       "      <td>133487</td>\n",
       "    </tr>\n",
       "    <tr>\n",
       "      <th>15</th>\n",
       "      <td>Kargil</td>\n",
       "      <td>140802</td>\n",
       "    </tr>\n",
       "    <tr>\n",
       "      <th>18</th>\n",
       "      <td>Punch</td>\n",
       "      <td>476835</td>\n",
       "    </tr>\n",
       "  </tbody>\n",
       "</table>\n",
       "</div>"
      ],
      "text/plain": [
       "       Name   TOT_P\n",
       "6   Kupwara  870354\n",
       "9    Budgam  753745\n",
       "12      Leh  133487\n",
       "15   Kargil  140802\n",
       "18    Punch  476835"
      ]
     },
     "execution_count": 114,
     "metadata": {},
     "output_type": "execute_result"
    }
   ],
   "source": [
    "dfc3.head()"
   ]
  },
  {
   "cell_type": "code",
   "execution_count": 115,
   "id": "031a3bfc",
   "metadata": {},
   "outputs": [],
   "source": [
    "# district wise vaccination data\n",
    "# column number 2109 and 2110 were considered as we are taking vaccciantion data till 14 aug 2021\n",
    "dfvc = dfvac.iloc[:,[3,5,2109,2110]]"
   ]
  },
  {
   "cell_type": "code",
   "execution_count": 116,
   "id": "62c85ae5",
   "metadata": {},
   "outputs": [],
   "source": [
    "# state wise vaccination data\n",
    "# column number 2109 and 2110 were considered as we are taking vaccciantion data till 14 aug 2021\n",
    "dfsc = dfvac.iloc[:,[1,2,2109,2110]]"
   ]
  },
  {
   "cell_type": "code",
   "execution_count": 117,
   "id": "b23f91b2",
   "metadata": {},
   "outputs": [
    {
     "data": {
      "text/html": [
       "<div>\n",
       "<style scoped>\n",
       "    .dataframe tbody tr th:only-of-type {\n",
       "        vertical-align: middle;\n",
       "    }\n",
       "\n",
       "    .dataframe tbody tr th {\n",
       "        vertical-align: top;\n",
       "    }\n",
       "\n",
       "    .dataframe thead th {\n",
       "        text-align: right;\n",
       "    }\n",
       "</style>\n",
       "<table border=\"1\" class=\"dataframe\">\n",
       "  <thead>\n",
       "    <tr style=\"text-align: right;\">\n",
       "      <th></th>\n",
       "      <th>State_Code</th>\n",
       "      <th>State</th>\n",
       "      <th>14/08/2021.3</th>\n",
       "      <th>14/08/2021.4</th>\n",
       "    </tr>\n",
       "  </thead>\n",
       "  <tbody>\n",
       "    <tr>\n",
       "      <th>0</th>\n",
       "      <td>NaN</td>\n",
       "      <td>NaN</td>\n",
       "      <td>First Dose Administered</td>\n",
       "      <td>Second Dose Administered</td>\n",
       "    </tr>\n",
       "    <tr>\n",
       "      <th>1</th>\n",
       "      <td>AN</td>\n",
       "      <td>Andaman and Nicobar Islands</td>\n",
       "      <td>22081</td>\n",
       "      <td>8110</td>\n",
       "    </tr>\n",
       "    <tr>\n",
       "      <th>2</th>\n",
       "      <td>AN</td>\n",
       "      <td>Andaman and Nicobar Islands</td>\n",
       "      <td>68043</td>\n",
       "      <td>29281</td>\n",
       "    </tr>\n",
       "    <tr>\n",
       "      <th>3</th>\n",
       "      <td>AN</td>\n",
       "      <td>Andaman and Nicobar Islands</td>\n",
       "      <td>142585</td>\n",
       "      <td>59896</td>\n",
       "    </tr>\n",
       "    <tr>\n",
       "      <th>4</th>\n",
       "      <td>AP</td>\n",
       "      <td>Andhra Pradesh</td>\n",
       "      <td>1364374</td>\n",
       "      <td>597346</td>\n",
       "    </tr>\n",
       "  </tbody>\n",
       "</table>\n",
       "</div>"
      ],
      "text/plain": [
       "  State_Code                        State             14/08/2021.3  \\\n",
       "0        NaN                          NaN  First Dose Administered   \n",
       "1         AN  Andaman and Nicobar Islands                    22081   \n",
       "2         AN  Andaman and Nicobar Islands                    68043   \n",
       "3         AN  Andaman and Nicobar Islands                   142585   \n",
       "4         AP               Andhra Pradesh                  1364374   \n",
       "\n",
       "               14/08/2021.4  \n",
       "0  Second Dose Administered  \n",
       "1                      8110  \n",
       "2                     29281  \n",
       "3                     59896  \n",
       "4                    597346  "
      ]
     },
     "execution_count": 117,
     "metadata": {},
     "output_type": "execute_result"
    }
   ],
   "source": [
    "dfsc.head()"
   ]
  },
  {
   "cell_type": "code",
   "execution_count": 118,
   "id": "c3398050",
   "metadata": {},
   "outputs": [],
   "source": [
    "dfsc= dfsc.iloc[1:,:]"
   ]
  },
  {
   "cell_type": "code",
   "execution_count": 119,
   "id": "966bc865",
   "metadata": {},
   "outputs": [],
   "source": [
    "sta = list(dfsc.State.unique())\n",
    "sta.sort()"
   ]
  },
  {
   "cell_type": "code",
   "execution_count": 120,
   "id": "3757d922",
   "metadata": {},
   "outputs": [],
   "source": [
    "dfsc.rename(columns = {'14/08/2021.3':'f_dose','14/08/2021.4':'s_dose'}, inplace = True)"
   ]
  },
  {
   "cell_type": "code",
   "execution_count": 121,
   "id": "217b53f8",
   "metadata": {},
   "outputs": [],
   "source": [
    "dfsc['f_dose']= pd.to_numeric(dfsc['f_dose'], errors ='ignore')\n",
    "dfsc['s_dose']= pd.to_numeric(dfsc['s_dose'], errors ='ignore')"
   ]
  },
  {
   "cell_type": "code",
   "execution_count": 122,
   "id": "83579070",
   "metadata": {},
   "outputs": [],
   "source": [
    "x = dfsc['f_dose'].sum()\n",
    "y = dfsc['s_dose'].sum()\n",
    "# for overall dataset all coumns of state wise were added\n",
    "dfind = pd.DataFrame({'Country':'India','f_dose':x,'s_dose':y},index=[0])"
   ]
  },
  {
   "cell_type": "code",
   "execution_count": 123,
   "id": "bbc9791f",
   "metadata": {},
   "outputs": [],
   "source": [
    "# first dose and second dose data were divided by population of india\n",
    "dfind['vaccinateddose1ratio'] = dfind['f_dose']/dfpind.iloc[0,1]\n",
    "dfind['vaccinateddose2ratio'] = dfind['s_dose']/dfpind.iloc[0,1]"
   ]
  },
  {
   "cell_type": "code",
   "execution_count": 124,
   "id": "6e9d856a",
   "metadata": {},
   "outputs": [],
   "source": [
    "dfind = dfind.drop(['f_dose','s_dose'],axis=1)"
   ]
  },
  {
   "cell_type": "code",
   "execution_count": 125,
   "id": "4bd9d17b",
   "metadata": {},
   "outputs": [
    {
     "data": {
      "text/html": [
       "<div>\n",
       "<style scoped>\n",
       "    .dataframe tbody tr th:only-of-type {\n",
       "        vertical-align: middle;\n",
       "    }\n",
       "\n",
       "    .dataframe tbody tr th {\n",
       "        vertical-align: top;\n",
       "    }\n",
       "\n",
       "    .dataframe thead th {\n",
       "        text-align: right;\n",
       "    }\n",
       "</style>\n",
       "<table border=\"1\" class=\"dataframe\">\n",
       "  <thead>\n",
       "    <tr style=\"text-align: right;\">\n",
       "      <th></th>\n",
       "      <th>Country</th>\n",
       "      <th>vaccinateddose1ratio</th>\n",
       "      <th>vaccinateddose2ratio</th>\n",
       "    </tr>\n",
       "  </thead>\n",
       "  <tbody>\n",
       "    <tr>\n",
       "      <th>0</th>\n",
       "      <td>India</td>\n",
       "      <td>0.346605</td>\n",
       "      <td>0.098849</td>\n",
       "    </tr>\n",
       "  </tbody>\n",
       "</table>\n",
       "</div>"
      ],
      "text/plain": [
       "  Country  vaccinateddose1ratio  vaccinateddose2ratio\n",
       "0   India              0.346605              0.098849"
      ]
     },
     "execution_count": 125,
     "metadata": {},
     "output_type": "execute_result"
    }
   ],
   "source": [
    "dfind"
   ]
  },
  {
   "cell_type": "code",
   "execution_count": 126,
   "id": "3e84058b",
   "metadata": {},
   "outputs": [],
   "source": [
    "s = sta[0]\n",
    "temp   =  dfsc[dfsc['State'] == s]\n",
    "summ1 = temp['f_dose'].sum()\n",
    "summ2 = temp['s_dose'].sum()\n",
    "# for state wise data , we added columns of all district belonging to a particular state\n",
    "dfst = pd.DataFrame({'stateid':s,'f_dose':summ1,'s_dose':summ2},index = [0])\n"
   ]
  },
  {
   "cell_type": "code",
   "execution_count": 127,
   "id": "02c8f795",
   "metadata": {},
   "outputs": [],
   "source": [
    "sta = sta[1:]"
   ]
  },
  {
   "cell_type": "code",
   "execution_count": 128,
   "id": "1f3b3534",
   "metadata": {},
   "outputs": [],
   "source": [
    "# same process is repeated for all other state\n",
    "for i in sta:\n",
    "    temp   =  dfsc[dfsc['State'] == i]\n",
    "    summ1 = temp['f_dose'].sum()\n",
    "    summ2 = temp['s_dose'].sum()\n",
    "    temp2 =  pd.DataFrame({'stateid':i,'f_dose':summ1,'s_dose':summ2},index = [0])\n",
    "    dfst = pd.concat([dfst,temp2],axis=0)"
   ]
  },
  {
   "cell_type": "code",
   "execution_count": 129,
   "id": "22fa0078",
   "metadata": {},
   "outputs": [],
   "source": [
    "dfst = dfst.reset_index()\n",
    "dfst= dfst.drop('index',axis=1)"
   ]
  },
  {
   "cell_type": "code",
   "execution_count": 130,
   "id": "be50b8da",
   "metadata": {},
   "outputs": [
    {
     "data": {
      "text/html": [
       "<div>\n",
       "<style scoped>\n",
       "    .dataframe tbody tr th:only-of-type {\n",
       "        vertical-align: middle;\n",
       "    }\n",
       "\n",
       "    .dataframe tbody tr th {\n",
       "        vertical-align: top;\n",
       "    }\n",
       "\n",
       "    .dataframe thead th {\n",
       "        text-align: right;\n",
       "    }\n",
       "</style>\n",
       "<table border=\"1\" class=\"dataframe\">\n",
       "  <thead>\n",
       "    <tr style=\"text-align: right;\">\n",
       "      <th></th>\n",
       "      <th>stateid</th>\n",
       "      <th>f_dose</th>\n",
       "      <th>s_dose</th>\n",
       "    </tr>\n",
       "  </thead>\n",
       "  <tbody>\n",
       "    <tr>\n",
       "      <th>0</th>\n",
       "      <td>Andaman and Nicobar Islands</td>\n",
       "      <td>232709</td>\n",
       "      <td>97287</td>\n",
       "    </tr>\n",
       "    <tr>\n",
       "      <th>1</th>\n",
       "      <td>Andhra Pradesh</td>\n",
       "      <td>18516141</td>\n",
       "      <td>6485212</td>\n",
       "    </tr>\n",
       "    <tr>\n",
       "      <th>2</th>\n",
       "      <td>Arunachal Pradesh</td>\n",
       "      <td>700977</td>\n",
       "      <td>199737</td>\n",
       "    </tr>\n",
       "    <tr>\n",
       "      <th>3</th>\n",
       "      <td>Assam</td>\n",
       "      <td>11430053</td>\n",
       "      <td>2442900</td>\n",
       "    </tr>\n",
       "    <tr>\n",
       "      <th>4</th>\n",
       "      <td>Bihar</td>\n",
       "      <td>25167378</td>\n",
       "      <td>4859267</td>\n",
       "    </tr>\n",
       "  </tbody>\n",
       "</table>\n",
       "</div>"
      ],
      "text/plain": [
       "                       stateid    f_dose   s_dose\n",
       "0  Andaman and Nicobar Islands    232709    97287\n",
       "1               Andhra Pradesh  18516141  6485212\n",
       "2            Arunachal Pradesh    700977   199737\n",
       "3                        Assam  11430053  2442900\n",
       "4                        Bihar  25167378  4859267"
      ]
     },
     "execution_count": 130,
     "metadata": {},
     "output_type": "execute_result"
    }
   ],
   "source": [
    "dfst.head()"
   ]
  },
  {
   "cell_type": "code",
   "execution_count": 131,
   "id": "0684eeb5",
   "metadata": {},
   "outputs": [],
   "source": [
    "#since all states name in population is in capital. i made all state name in capital as well\n",
    "for i in dfst.stateid.unique():\n",
    "    indexname = dfst[dfst['stateid']==i].index\n",
    "    i = i.upper()\n",
    "    dfst.loc[indexname,'stateid'] = i"
   ]
  },
  {
   "cell_type": "code",
   "execution_count": 132,
   "id": "d9366dfe",
   "metadata": {},
   "outputs": [
    {
     "data": {
      "text/html": [
       "<div>\n",
       "<style scoped>\n",
       "    .dataframe tbody tr th:only-of-type {\n",
       "        vertical-align: middle;\n",
       "    }\n",
       "\n",
       "    .dataframe tbody tr th {\n",
       "        vertical-align: top;\n",
       "    }\n",
       "\n",
       "    .dataframe thead th {\n",
       "        text-align: right;\n",
       "    }\n",
       "</style>\n",
       "<table border=\"1\" class=\"dataframe\">\n",
       "  <thead>\n",
       "    <tr style=\"text-align: right;\">\n",
       "      <th></th>\n",
       "      <th>Name</th>\n",
       "      <th>TOT_P</th>\n",
       "    </tr>\n",
       "  </thead>\n",
       "  <tbody>\n",
       "    <tr>\n",
       "      <th>3</th>\n",
       "      <td>JAMMU &amp; KASHMIR</td>\n",
       "      <td>12541302</td>\n",
       "    </tr>\n",
       "    <tr>\n",
       "      <th>72</th>\n",
       "      <td>HIMACHAL PRADESH</td>\n",
       "      <td>6864602</td>\n",
       "    </tr>\n",
       "    <tr>\n",
       "      <th>111</th>\n",
       "      <td>PUNJAB</td>\n",
       "      <td>27743338</td>\n",
       "    </tr>\n",
       "    <tr>\n",
       "      <th>174</th>\n",
       "      <td>CHANDIGARH</td>\n",
       "      <td>1055450</td>\n",
       "    </tr>\n",
       "    <tr>\n",
       "      <th>180</th>\n",
       "      <td>UTTARAKHAND</td>\n",
       "      <td>10086292</td>\n",
       "    </tr>\n",
       "  </tbody>\n",
       "</table>\n",
       "</div>"
      ],
      "text/plain": [
       "                 Name     TOT_P\n",
       "3     JAMMU & KASHMIR  12541302\n",
       "72   HIMACHAL PRADESH   6864602\n",
       "111            PUNJAB  27743338\n",
       "174        CHANDIGARH   1055450\n",
       "180       UTTARAKHAND  10086292"
      ]
     },
     "execution_count": 132,
     "metadata": {},
     "output_type": "execute_result"
    }
   ],
   "source": [
    "# dfstp contains state wise population data\n",
    "dfstp.head()"
   ]
  },
  {
   "cell_type": "code",
   "execution_count": 133,
   "id": "68117c49",
   "metadata": {},
   "outputs": [],
   "source": [
    "#finding common state between census and vaccination data frames\n",
    "lis1 = dfstp['Name'].unique()\n",
    "lis2 = dfst['stateid'].unique()\n",
    "lis3 = [i for i in lis2 if i in lis1]"
   ]
  },
  {
   "cell_type": "code",
   "execution_count": 134,
   "id": "e116fcd8",
   "metadata": {},
   "outputs": [
    {
     "data": {
      "text/plain": [
       "30"
      ]
     },
     "execution_count": 134,
     "metadata": {},
     "output_type": "execute_result"
    }
   ],
   "source": [
    "#only 30 states matched \n",
    "len(lis3)"
   ]
  },
  {
   "cell_type": "code",
   "execution_count": 135,
   "id": "a4765b71",
   "metadata": {},
   "outputs": [],
   "source": [
    "# lis4 and lis5 conatins non matching state name from census and vaccuination data resepectively \n",
    "lis4 = list(set(lis1) - set(lis3))\n",
    "lis5 = list(set(lis2) - set(lis3))"
   ]
  },
  {
   "cell_type": "code",
   "execution_count": 136,
   "id": "c79cadc8",
   "metadata": {},
   "outputs": [
    {
     "name": "stdout",
     "output_type": "stream",
     "text": [
      "['NCT OF DELHI', 'JAMMU & KASHMIR', 'DADRA & NAGAR HAVELI', 'DAMAN & DIU', 'ANDAMAN & NICOBAR ISLANDS']\n"
     ]
    },
    {
     "data": {
      "text/plain": [
       "['DELHI',\n",
       " 'LADAKH',\n",
       " 'JAMMU AND KASHMIR',\n",
       " 'DADRA AND NAGAR HAVELI AND DAMAN AND DIU',\n",
       " 'TELANGANA',\n",
       " 'ANDAMAN AND NICOBAR ISLANDS']"
      ]
     },
     "execution_count": 136,
     "metadata": {},
     "output_type": "execute_result"
    }
   ],
   "source": [
    "print(lis4)\n",
    "lis5"
   ]
  },
  {
   "cell_type": "code",
   "execution_count": 137,
   "id": "843051a0",
   "metadata": {},
   "outputs": [],
   "source": [
    "# chhanging some state name in census data \n",
    "indexname = dfstp[dfstp['Name'] == 'NCT OF DELHI'].index\n",
    "dfstp.loc[indexname,'Name'] = 'DELHI'\n",
    "indexname = dfstp[dfstp['Name'] == 'ANDAMAN & NICOBAR ISLANDS'].index\n",
    "dfstp.loc[indexname,'Name'] = 'ANDAMAN AND NICOBAR ISLANDS'\n",
    "indexname = dfstp[dfstp['Name'] == 'JAMMU & KASHMIR'].index\n",
    "dfstp.loc[indexname,'Name'] = 'JAMMU AND KASHMIR'"
   ]
  },
  {
   "cell_type": "code",
   "execution_count": 138,
   "id": "211eb652",
   "metadata": {},
   "outputs": [],
   "source": [
    "# daman and diu and DADRA & NAGAR HAVELI were combined \n",
    "x = dfstp[dfstp['Name'] == 'DAMAN & DIU']['TOT_P']\n",
    "x = list(x)[0]\n",
    "y = dfstp[dfstp['Name'] == 'DADRA & NAGAR HAVELI']['TOT_P']\n",
    "y = list(y)[0]\n",
    "p = pd.DataFrame({'Name' : 'DADRA AND NAGAR HAVELI AND DAMAN AND DIU','TOT_P' : (x+y)},index = [0])\n",
    "dfstp = pd.concat([dfstp,p],axis=0)"
   ]
  },
  {
   "cell_type": "code",
   "execution_count": 139,
   "id": "5629df0f",
   "metadata": {},
   "outputs": [],
   "source": [
    "indexname = dfstp[dfstp['Name'] == 'DAMAN & DIU'].index\n",
    "dfstp = dfstp.drop(indexname)\n",
    "indexname = dfstp[dfstp['Name'] == 'DADRA & NAGAR HAVELI'].index\n",
    "dfstp= dfstp.drop(indexname)"
   ]
  },
  {
   "cell_type": "code",
   "execution_count": 140,
   "id": "fb4eb443",
   "metadata": {},
   "outputs": [],
   "source": [
    "dfstp = dfstp.reset_index()\n",
    "dfstp = dfstp.drop('index',axis=1)"
   ]
  },
  {
   "cell_type": "code",
   "execution_count": 141,
   "id": "574d95ad",
   "metadata": {},
   "outputs": [],
   "source": [
    "# as in census data jammu and kashmir and ladakh are still combined , we added their vaccination value in vaccination data\n",
    "x = dfst[dfst['stateid'] == 'JAMMU AND KASHMIR']['f_dose']\n",
    "x = list(x)[0]\n",
    "a = dfst[dfst['stateid'] == 'JAMMU AND KASHMIR']['s_dose']\n",
    "a= list(a)[0]\n",
    "y = dfst[dfst['stateid'] == 'LADAKH']['f_dose']\n",
    "y = list(y)[0]\n",
    "b = dfst[dfst['stateid'] == 'LADAKH']['s_dose']\n",
    "b = list(b)[0]\n"
   ]
  },
  {
   "cell_type": "code",
   "execution_count": 142,
   "id": "5b9a09a4",
   "metadata": {},
   "outputs": [],
   "source": [
    "indexname = dfst[dfst['stateid'] == 'JAMMU AND KASHMIR'].index\n",
    "dfst = dfst.drop(indexname)\n",
    "indexname = dfst[dfst['stateid'] == 'LADAKH'].index\n",
    "dfst = dfst.drop(indexname)"
   ]
  },
  {
   "cell_type": "code",
   "execution_count": 143,
   "id": "2e4d0bd0",
   "metadata": {},
   "outputs": [],
   "source": [
    "p = pd.DataFrame({'stateid' : 'JAMMU AND KASHMIR','f_dose' : (x+y),'s_dose':(a+b)},index = [0])\n",
    "dfst = pd.concat([dfst,p],axis=0)"
   ]
  },
  {
   "cell_type": "code",
   "execution_count": 144,
   "id": "f1af6e9b",
   "metadata": {},
   "outputs": [
    {
     "data": {
      "text/html": [
       "<div>\n",
       "<style scoped>\n",
       "    .dataframe tbody tr th:only-of-type {\n",
       "        vertical-align: middle;\n",
       "    }\n",
       "\n",
       "    .dataframe tbody tr th {\n",
       "        vertical-align: top;\n",
       "    }\n",
       "\n",
       "    .dataframe thead th {\n",
       "        text-align: right;\n",
       "    }\n",
       "</style>\n",
       "<table border=\"1\" class=\"dataframe\">\n",
       "  <thead>\n",
       "    <tr style=\"text-align: right;\">\n",
       "      <th></th>\n",
       "      <th>stateid</th>\n",
       "      <th>f_dose</th>\n",
       "      <th>s_dose</th>\n",
       "    </tr>\n",
       "  </thead>\n",
       "  <tbody>\n",
       "    <tr>\n",
       "      <th>0</th>\n",
       "      <td>ANDAMAN AND NICOBAR ISLANDS</td>\n",
       "      <td>232709</td>\n",
       "      <td>97287</td>\n",
       "    </tr>\n",
       "    <tr>\n",
       "      <th>1</th>\n",
       "      <td>ANDHRA PRADESH</td>\n",
       "      <td>18516141</td>\n",
       "      <td>6485212</td>\n",
       "    </tr>\n",
       "    <tr>\n",
       "      <th>2</th>\n",
       "      <td>ARUNACHAL PRADESH</td>\n",
       "      <td>700977</td>\n",
       "      <td>199737</td>\n",
       "    </tr>\n",
       "    <tr>\n",
       "      <th>3</th>\n",
       "      <td>ASSAM</td>\n",
       "      <td>11430053</td>\n",
       "      <td>2442900</td>\n",
       "    </tr>\n",
       "    <tr>\n",
       "      <th>4</th>\n",
       "      <td>BIHAR</td>\n",
       "      <td>25167378</td>\n",
       "      <td>4859267</td>\n",
       "    </tr>\n",
       "  </tbody>\n",
       "</table>\n",
       "</div>"
      ],
      "text/plain": [
       "                       stateid    f_dose   s_dose\n",
       "0  ANDAMAN AND NICOBAR ISLANDS    232709    97287\n",
       "1               ANDHRA PRADESH  18516141  6485212\n",
       "2            ARUNACHAL PRADESH    700977   199737\n",
       "3                        ASSAM  11430053  2442900\n",
       "4                        BIHAR  25167378  4859267"
      ]
     },
     "execution_count": 144,
     "metadata": {},
     "output_type": "execute_result"
    }
   ],
   "source": [
    "dfst.head()"
   ]
  },
  {
   "cell_type": "code",
   "execution_count": 145,
   "id": "9703dd6d",
   "metadata": {},
   "outputs": [],
   "source": [
    "#after making modification in state data\n",
    "lis1 = dfstp['Name'].unique()\n",
    "lis2 = dfst['stateid'].unique()\n",
    "lis3 = [i for i in lis2 if i in lis1]"
   ]
  },
  {
   "cell_type": "code",
   "execution_count": 146,
   "id": "7f77c238",
   "metadata": {},
   "outputs": [
    {
     "data": {
      "text/plain": [
       "34"
      ]
     },
     "execution_count": 146,
     "metadata": {},
     "output_type": "execute_result"
    }
   ],
   "source": [
    "# after making above modification , we are getting 34 states as common\n",
    "len(lis3)"
   ]
  },
  {
   "cell_type": "code",
   "execution_count": 147,
   "id": "874d4eef",
   "metadata": {},
   "outputs": [],
   "source": [
    "dfst = dfst.reset_index()\n",
    "dfst = dfst.drop('index',axis=1)"
   ]
  },
  {
   "cell_type": "code",
   "execution_count": 148,
   "id": "1a16f09e",
   "metadata": {},
   "outputs": [],
   "source": [
    "# telangana state is removed from dataset\n",
    "indexname  = dfst[dfst['stateid'] == 'TELANGANA'].index\n",
    "dfst = dfst.drop(indexname)\n"
   ]
  },
  {
   "cell_type": "code",
   "execution_count": 149,
   "id": "3d29d0e1",
   "metadata": {},
   "outputs": [],
   "source": [
    "# for all states population data for a particular state from census data are appended to vacciantion data frame for ratio calculation\n",
    "for i in dfst.stateid.unique():\n",
    "    indexname  = dfstp[dfstp['Name'] == i].index\n",
    "    indexname2 = dfst[dfst['stateid'] == i].index \n",
    "    x = dfstp.loc[indexname,'TOT_P'].values\n",
    "    x = x[0]\n",
    "    dfst.loc[indexname2 , 'population'] = x"
   ]
  },
  {
   "cell_type": "code",
   "execution_count": 150,
   "id": "ef43d9f4",
   "metadata": {},
   "outputs": [],
   "source": [
    "dfst['f_dose']= pd.to_numeric(dfst['f_dose'], errors ='ignore')\n",
    "dfst['s_dose']= pd.to_numeric(dfst['s_dose'], errors ='ignore')\n",
    "dfst['population']= pd.to_numeric(dfst['population'], errors ='ignore')"
   ]
  },
  {
   "cell_type": "code",
   "execution_count": 151,
   "id": "a0cbbc39",
   "metadata": {},
   "outputs": [],
   "source": [
    "dfst['vaccinateddose1ratio'] = dfst['f_dose']/dfst['population']\n",
    "dfst['vaccinateddose2ratio'] = dfst['s_dose']/dfst['population']"
   ]
  },
  {
   "cell_type": "code",
   "execution_count": 152,
   "id": "27f1e62d",
   "metadata": {},
   "outputs": [],
   "source": [
    "dfst = dfst.drop(['f_dose','s_dose','population'],axis=1)"
   ]
  },
  {
   "cell_type": "code",
   "execution_count": null,
   "id": "b8b78c05",
   "metadata": {},
   "outputs": [],
   "source": []
  },
  {
   "cell_type": "code",
   "execution_count": 153,
   "id": "cd1e5723",
   "metadata": {},
   "outputs": [
    {
     "data": {
      "text/html": [
       "<div>\n",
       "<style scoped>\n",
       "    .dataframe tbody tr th:only-of-type {\n",
       "        vertical-align: middle;\n",
       "    }\n",
       "\n",
       "    .dataframe tbody tr th {\n",
       "        vertical-align: top;\n",
       "    }\n",
       "\n",
       "    .dataframe thead th {\n",
       "        text-align: right;\n",
       "    }\n",
       "</style>\n",
       "<table border=\"1\" class=\"dataframe\">\n",
       "  <thead>\n",
       "    <tr style=\"text-align: right;\">\n",
       "      <th></th>\n",
       "      <th>stateid</th>\n",
       "      <th>vaccinateddose1ratio</th>\n",
       "      <th>vaccinateddose2ratio</th>\n",
       "    </tr>\n",
       "  </thead>\n",
       "  <tbody>\n",
       "    <tr>\n",
       "      <th>0</th>\n",
       "      <td>ANDAMAN AND NICOBAR ISLANDS</td>\n",
       "      <td>0.611457</td>\n",
       "      <td>0.255628</td>\n",
       "    </tr>\n",
       "    <tr>\n",
       "      <th>1</th>\n",
       "      <td>ANDHRA PRADESH</td>\n",
       "      <td>0.218917</td>\n",
       "      <td>0.076675</td>\n",
       "    </tr>\n",
       "    <tr>\n",
       "      <th>2</th>\n",
       "      <td>ARUNACHAL PRADESH</td>\n",
       "      <td>0.506586</td>\n",
       "      <td>0.144347</td>\n",
       "    </tr>\n",
       "    <tr>\n",
       "      <th>3</th>\n",
       "      <td>ASSAM</td>\n",
       "      <td>0.366282</td>\n",
       "      <td>0.078284</td>\n",
       "    </tr>\n",
       "    <tr>\n",
       "      <th>4</th>\n",
       "      <td>BIHAR</td>\n",
       "      <td>0.241763</td>\n",
       "      <td>0.046679</td>\n",
       "    </tr>\n",
       "  </tbody>\n",
       "</table>\n",
       "</div>"
      ],
      "text/plain": [
       "                       stateid  vaccinateddose1ratio  vaccinateddose2ratio\n",
       "0  ANDAMAN AND NICOBAR ISLANDS              0.611457              0.255628\n",
       "1               ANDHRA PRADESH              0.218917              0.076675\n",
       "2            ARUNACHAL PRADESH              0.506586              0.144347\n",
       "3                        ASSAM              0.366282              0.078284\n",
       "4                        BIHAR              0.241763              0.046679"
      ]
     },
     "execution_count": 153,
     "metadata": {},
     "output_type": "execute_result"
    }
   ],
   "source": [
    "dfst.head()"
   ]
  },
  {
   "cell_type": "code",
   "execution_count": null,
   "id": "2c9b3b31",
   "metadata": {},
   "outputs": [],
   "source": []
  },
  {
   "cell_type": "code",
   "execution_count": 154,
   "id": "04ca8208",
   "metadata": {},
   "outputs": [
    {
     "data": {
      "text/html": [
       "<div>\n",
       "<style scoped>\n",
       "    .dataframe tbody tr th:only-of-type {\n",
       "        vertical-align: middle;\n",
       "    }\n",
       "\n",
       "    .dataframe tbody tr th {\n",
       "        vertical-align: top;\n",
       "    }\n",
       "\n",
       "    .dataframe thead th {\n",
       "        text-align: right;\n",
       "    }\n",
       "</style>\n",
       "<table border=\"1\" class=\"dataframe\">\n",
       "  <thead>\n",
       "    <tr style=\"text-align: right;\">\n",
       "      <th></th>\n",
       "      <th>District_Key</th>\n",
       "      <th>District</th>\n",
       "      <th>14/08/2021.3</th>\n",
       "      <th>14/08/2021.4</th>\n",
       "    </tr>\n",
       "  </thead>\n",
       "  <tbody>\n",
       "    <tr>\n",
       "      <th>0</th>\n",
       "      <td>NaN</td>\n",
       "      <td>NaN</td>\n",
       "      <td>First Dose Administered</td>\n",
       "      <td>Second Dose Administered</td>\n",
       "    </tr>\n",
       "    <tr>\n",
       "      <th>1</th>\n",
       "      <td>AN_Nicobars</td>\n",
       "      <td>Nicobars</td>\n",
       "      <td>22081</td>\n",
       "      <td>8110</td>\n",
       "    </tr>\n",
       "    <tr>\n",
       "      <th>2</th>\n",
       "      <td>AN_North and Middle Andaman</td>\n",
       "      <td>North and Middle Andaman</td>\n",
       "      <td>68043</td>\n",
       "      <td>29281</td>\n",
       "    </tr>\n",
       "    <tr>\n",
       "      <th>3</th>\n",
       "      <td>AN_South Andaman</td>\n",
       "      <td>South Andaman</td>\n",
       "      <td>142585</td>\n",
       "      <td>59896</td>\n",
       "    </tr>\n",
       "    <tr>\n",
       "      <th>4</th>\n",
       "      <td>AP_Anantapur</td>\n",
       "      <td>Anantapur</td>\n",
       "      <td>1364374</td>\n",
       "      <td>597346</td>\n",
       "    </tr>\n",
       "  </tbody>\n",
       "</table>\n",
       "</div>"
      ],
      "text/plain": [
       "                  District_Key                  District  \\\n",
       "0                          NaN                       NaN   \n",
       "1                  AN_Nicobars                  Nicobars   \n",
       "2  AN_North and Middle Andaman  North and Middle Andaman   \n",
       "3             AN_South Andaman             South Andaman   \n",
       "4                 AP_Anantapur                 Anantapur   \n",
       "\n",
       "              14/08/2021.3              14/08/2021.4  \n",
       "0  First Dose Administered  Second Dose Administered  \n",
       "1                    22081                      8110  \n",
       "2                    68043                     29281  \n",
       "3                   142585                     59896  \n",
       "4                  1364374                    597346  "
      ]
     },
     "execution_count": 154,
     "metadata": {},
     "output_type": "execute_result"
    }
   ],
   "source": [
    "# district wise vaccination data\n",
    "dfvc.head()"
   ]
  },
  {
   "cell_type": "code",
   "execution_count": 155,
   "id": "8388d9c5",
   "metadata": {},
   "outputs": [
    {
     "data": {
      "text/html": [
       "<div>\n",
       "<style scoped>\n",
       "    .dataframe tbody tr th:only-of-type {\n",
       "        vertical-align: middle;\n",
       "    }\n",
       "\n",
       "    .dataframe tbody tr th {\n",
       "        vertical-align: top;\n",
       "    }\n",
       "\n",
       "    .dataframe thead th {\n",
       "        text-align: right;\n",
       "    }\n",
       "</style>\n",
       "<table border=\"1\" class=\"dataframe\">\n",
       "  <thead>\n",
       "    <tr style=\"text-align: right;\">\n",
       "      <th></th>\n",
       "      <th>Name</th>\n",
       "      <th>TOT_P</th>\n",
       "    </tr>\n",
       "  </thead>\n",
       "  <tbody>\n",
       "    <tr>\n",
       "      <th>6</th>\n",
       "      <td>Kupwara</td>\n",
       "      <td>870354</td>\n",
       "    </tr>\n",
       "    <tr>\n",
       "      <th>9</th>\n",
       "      <td>Budgam</td>\n",
       "      <td>753745</td>\n",
       "    </tr>\n",
       "    <tr>\n",
       "      <th>12</th>\n",
       "      <td>Leh</td>\n",
       "      <td>133487</td>\n",
       "    </tr>\n",
       "    <tr>\n",
       "      <th>15</th>\n",
       "      <td>Kargil</td>\n",
       "      <td>140802</td>\n",
       "    </tr>\n",
       "    <tr>\n",
       "      <th>18</th>\n",
       "      <td>Punch</td>\n",
       "      <td>476835</td>\n",
       "    </tr>\n",
       "  </tbody>\n",
       "</table>\n",
       "</div>"
      ],
      "text/plain": [
       "       Name   TOT_P\n",
       "6   Kupwara  870354\n",
       "9    Budgam  753745\n",
       "12      Leh  133487\n",
       "15   Kargil  140802\n",
       "18    Punch  476835"
      ]
     },
     "execution_count": 155,
     "metadata": {},
     "output_type": "execute_result"
    }
   ],
   "source": [
    "# district wise population data\n",
    "dfc3.head()"
   ]
  },
  {
   "cell_type": "code",
   "execution_count": 165,
   "id": "29d1bc10",
   "metadata": {},
   "outputs": [],
   "source": [
    "# common district between census and vaccination data\n",
    "lic1 = list(dfc3['Name'])\n",
    "lic2 = list(dfvc['District'])\n",
    "lic3 = [i for i in lic1 if i in lic2]"
   ]
  },
  {
   "cell_type": "markdown",
   "id": "cf342d9b",
   "metadata": {},
   "source": [
    "intially we were getting only 595 district as common , then we found data that some of the district in census data  ,space is added in the string , we removed those spaces , also there were some spelling difference in two district name , we used diff.xlsc(prepared manually) to remove spelling difference. and we were able to get 622 district as common, then we added 13 district manually ."
   ]
  },
  {
   "cell_type": "code",
   "execution_count": 166,
   "id": "21c87d71",
   "metadata": {},
   "outputs": [
    {
     "data": {
      "text/html": [
       "<div>\n",
       "<style scoped>\n",
       "    .dataframe tbody tr th:only-of-type {\n",
       "        vertical-align: middle;\n",
       "    }\n",
       "\n",
       "    .dataframe tbody tr th {\n",
       "        vertical-align: top;\n",
       "    }\n",
       "\n",
       "    .dataframe thead th {\n",
       "        text-align: right;\n",
       "    }\n",
       "</style>\n",
       "<table border=\"1\" class=\"dataframe\">\n",
       "  <thead>\n",
       "    <tr style=\"text-align: right;\">\n",
       "      <th></th>\n",
       "      <th>Name</th>\n",
       "      <th>TOT_P</th>\n",
       "    </tr>\n",
       "  </thead>\n",
       "  <tbody>\n",
       "    <tr>\n",
       "      <th>6</th>\n",
       "      <td>Kupwara</td>\n",
       "      <td>870354</td>\n",
       "    </tr>\n",
       "    <tr>\n",
       "      <th>9</th>\n",
       "      <td>Budgam</td>\n",
       "      <td>753745</td>\n",
       "    </tr>\n",
       "    <tr>\n",
       "      <th>12</th>\n",
       "      <td>Leh</td>\n",
       "      <td>133487</td>\n",
       "    </tr>\n",
       "    <tr>\n",
       "      <th>15</th>\n",
       "      <td>Kargil</td>\n",
       "      <td>140802</td>\n",
       "    </tr>\n",
       "    <tr>\n",
       "      <th>18</th>\n",
       "      <td>Punch</td>\n",
       "      <td>476835</td>\n",
       "    </tr>\n",
       "  </tbody>\n",
       "</table>\n",
       "</div>"
      ],
      "text/plain": [
       "       Name   TOT_P\n",
       "6   Kupwara  870354\n",
       "9    Budgam  753745\n",
       "12      Leh  133487\n",
       "15   Kargil  140802\n",
       "18    Punch  476835"
      ]
     },
     "execution_count": 166,
     "metadata": {},
     "output_type": "execute_result"
    }
   ],
   "source": [
    "dfc3.head()"
   ]
  },
  {
   "cell_type": "code",
   "execution_count": 167,
   "id": "38c6cf16",
   "metadata": {},
   "outputs": [],
   "source": [
    "## removing extra space from the strings\n",
    "for i in range(len(lic1)):\n",
    "    l = len(lic1[i])\n",
    "    s = lic1[i]\n",
    "    if(ord(s[l-1]) == 32):\n",
    "        print(s+' '+str(len(s)))\n",
    "        indexname = dfc3[dfc3['Name'] == s].index\n",
    "        s = lic1[i][:l-1]\n",
    "        dfc3.loc[indexname,'Name'] = s\n",
    "        "
   ]
  },
  {
   "cell_type": "code",
   "execution_count": 168,
   "id": "1f3854bd",
   "metadata": {},
   "outputs": [],
   "source": [
    "lic1 = list(dfc3['Name'])\n",
    "lic2 = list(dfvc['District'])\n",
    "lic3 = [i for i in lic1 if i in lic2]"
   ]
  },
  {
   "cell_type": "code",
   "execution_count": 169,
   "id": "0c459b50",
   "metadata": {},
   "outputs": [
    {
     "data": {
      "text/plain": [
       "621"
      ]
     },
     "execution_count": 169,
     "metadata": {},
     "output_type": "execute_result"
    }
   ],
   "source": [
    "# in modified district data we are getting 634 district common\n",
    "len(lic3)"
   ]
  },
  {
   "cell_type": "code",
   "execution_count": null,
   "id": "39817d79",
   "metadata": {},
   "outputs": [],
   "source": []
  },
  {
   "cell_type": "code",
   "execution_count": 170,
   "id": "1d21dd9e",
   "metadata": {},
   "outputs": [
    {
     "data": {
      "text/plain": [
       "['Mahbubnagar',\n",
       " 'Lahul and Spiti',\n",
       " 'Pashchimi Singhbhum',\n",
       " 'Banas Kantha',\n",
       " 'Panch Mahal',\n",
       " 'Dadra & Nagar Haveli',\n",
       " 'Sabar Kantha',\n",
       " 'Rangareddy',\n",
       " 'Mumbai Suburban',\n",
       " 'Bangaluru Rural',\n",
       " 'Belgavi',\n",
       " 'Barddhaman',\n",
       " 'Gulbarga',\n",
       " 'Nicobar',\n",
       " 'Bangaluru Urban',\n",
       " 'Sri Potti Sriramulu Nellore',\n",
       " 'Mewat',\n",
       " 'Tumkur',\n",
       " 'Bara Banki']"
      ]
     },
     "execution_count": 170,
     "metadata": {},
     "output_type": "execute_result"
    }
   ],
   "source": [
    "lic4 = list(set(lic1) - set(lic3))\n",
    "lic4"
   ]
  },
  {
   "cell_type": "code",
   "execution_count": 175,
   "id": "bca7e194",
   "metadata": {},
   "outputs": [
    {
     "name": "stdout",
     "output_type": "stream",
     "text": [
      "Int64Index([], dtype='int64')\n"
     ]
    }
   ],
   "source": [
    "# some district were added manually\n",
    "indexname = dfc3[dfc3['Name'] == 'Banas Kantha'].index\n",
    "s = 'Banaskantha'\n",
    "print(indexname)\n",
    "dfc3.loc[indexname,'Name'] = s\n",
    "indexname = dfc3[dfc3['Name'] == 'Mahbubnagar'].index\n",
    "s = 'Mahabubnagar'\n",
    "#print(indexname)\n",
    "dfc3.loc[indexname,'Name'] = s\n",
    "indexname = dfc3[dfc3['Name'] == 'Lahul and Spiti'].index\n",
    "s = 'Lahaul and Spiti'\n",
    "#print(indexname)\n",
    "dfc3.loc[indexname,'Name'] = s\n",
    "indexname = dfc3[dfc3['Name'] == 'Panch Mahal'].index\n",
    "s = 'Panchmahal'\n",
    "dfc3.loc[indexname,'Name'] = s\n",
    "indexname = dfc3[dfc3['Name'] == 'Dadra & Nagar Haveli'].index\n",
    "s = 'Dadra and Nagar Haveli'\n",
    "dfc3.loc[indexname,'Name'] = s\n",
    "indexname = dfc3[dfc3['Name'] == 'Sabar Kantha'].index\n",
    "s = 'Sabarkantha'\n",
    "dfc3.loc[indexname,'Name'] = s\n",
    "indexname = dfc3[dfc3['Name'] == 'Rangareddy'].index\n",
    "s = 'Ranga Reddy'\n",
    "dfc3.loc[indexname,'Name'] = s\n",
    "indexname = dfc3[dfc3['Name'] == 'Bangaluru Rural'].index\n",
    "s = 'Bengaluru Rural'\n",
    "dfc3.loc[indexname,'Name'] = s\n",
    "indexname = dfc3[dfc3['Name'] == 'Belgavi'].index\n",
    "s = 'Belagavi'\n",
    "dfc3.loc[indexname,'Name'] = s\n",
    "indexname = dfc3[dfc3['Name'] == 'Nicobar'].index\n",
    "s = 'Nicobars'\n",
    "dfc3.loc[indexname,'Name'] = s\n",
    "indexname = dfc3[dfc3['Name'] == 'Bangaluru Urban'].index\n",
    "s = 'Bengaluru Urban'\n",
    "dfc3.loc[indexname,'Name'] = s\n",
    "indexname = dfc3[dfc3['Name'] == 'Sri Potti Sriramulu Nellore'].index\n",
    "s = 'S.P.S. Nellore'\n",
    "dfc3.loc[indexname,'Name'] = s\n",
    "indexname = dfc3[dfc3['Name'] == 'Bara Banki'].index\n",
    "s = 'Barabank'\n",
    "dfc3.loc[indexname,'Name'] = s\n"
   ]
  },
  {
   "cell_type": "code",
   "execution_count": 172,
   "id": "51bd2850",
   "metadata": {},
   "outputs": [],
   "source": [
    "lic5 = list(set(lic2) - set(lic3))"
   ]
  },
  {
   "cell_type": "code",
   "execution_count": 173,
   "id": "ef138b0d",
   "metadata": {},
   "outputs": [],
   "source": [
    "lic5 = lic5[1:]"
   ]
  },
  {
   "cell_type": "code",
   "execution_count": 174,
   "id": "2433c510",
   "metadata": {},
   "outputs": [
    {
     "data": {
      "text/plain": [
       "['Agar Malwa',\n",
       " 'Alipurduar',\n",
       " 'Amethi',\n",
       " 'Aravalli',\n",
       " 'Balod',\n",
       " 'Baloda Bazar',\n",
       " 'Bametara',\n",
       " 'Banaskantha',\n",
       " 'Barabanki',\n",
       " 'Belagavi',\n",
       " 'Bengaluru Rural',\n",
       " 'Bengaluru Urban',\n",
       " 'Bhadradri Kothagudem',\n",
       " 'Biswanath',\n",
       " 'Botad',\n",
       " 'Charaideo',\n",
       " 'Charkhi Dadri',\n",
       " 'Chengalpattu',\n",
       " 'Chhota Udaipur',\n",
       " 'Dadra and Nagar Haveli',\n",
       " 'Devbhumi Dwarka',\n",
       " 'East Jaintia Hills',\n",
       " 'Fazilka',\n",
       " 'Gariaband',\n",
       " 'Gaurela Pendra Marwahi',\n",
       " 'Gir Somnath',\n",
       " 'Gomati',\n",
       " 'Hapur',\n",
       " 'Hojai',\n",
       " 'Jagtial',\n",
       " 'Jangaon',\n",
       " 'Jayashankar Bhupalapally',\n",
       " 'Jhargram',\n",
       " 'Jiribam',\n",
       " 'Jogulamba Gadwal',\n",
       " 'Kakching',\n",
       " 'Kalaburagi',\n",
       " 'Kalimpong',\n",
       " 'Kallakurichi',\n",
       " 'Kamareddy',\n",
       " 'Kamjong',\n",
       " 'Kamle',\n",
       " 'Kangpokpi',\n",
       " 'Khowai',\n",
       " 'Komaram Bheem',\n",
       " 'Kondagaon',\n",
       " 'Kra Daadi',\n",
       " 'Lahaul and Spiti',\n",
       " 'Lepa Rada',\n",
       " 'Longding',\n",
       " 'Lower Siang',\n",
       " 'Mahabubabad',\n",
       " 'Mahabubnagar',\n",
       " 'Mahisagar',\n",
       " 'Majuli',\n",
       " 'Mancherial',\n",
       " 'Medchal Malkajgiri',\n",
       " 'Morbi',\n",
       " 'Mulugu',\n",
       " 'Mungeli',\n",
       " 'Nagarkurnool',\n",
       " 'Namsai',\n",
       " 'Narayanpet',\n",
       " 'Nicobars',\n",
       " 'Nirmal',\n",
       " 'Noney',\n",
       " 'North Garo Hills',\n",
       " 'Nuh',\n",
       " 'Pakke Kessang',\n",
       " 'Palghar',\n",
       " 'Panchmahal',\n",
       " 'Paschim Bardhaman',\n",
       " 'Pathankot',\n",
       " 'Peddapalli',\n",
       " 'Pherzawl',\n",
       " 'Purba Bardhaman',\n",
       " 'Raigad',\n",
       " 'Rajanna Sircilla',\n",
       " 'Ranga Reddy',\n",
       " 'Ranipet',\n",
       " 'S.P.S. Nellore',\n",
       " 'Sabarkantha',\n",
       " 'Sambhal',\n",
       " 'Sangareddy',\n",
       " 'Shahdara',\n",
       " 'Shamli',\n",
       " 'Shi Yomi',\n",
       " 'Siang',\n",
       " 'Siddipet',\n",
       " 'Sipahijala',\n",
       " 'South East Delhi',\n",
       " 'South Salmara Mankachar',\n",
       " 'South West Garo Hills',\n",
       " 'South West Khasi Hills',\n",
       " 'Sukma',\n",
       " 'Surajpur',\n",
       " 'Suryapet',\n",
       " 'Tengnoupal',\n",
       " 'Tenkasi',\n",
       " 'Tirupathur',\n",
       " 'Tumakuru',\n",
       " 'Unokoti',\n",
       " 'Vijayapura',\n",
       " 'Vikarabad',\n",
       " 'Wanaparthy',\n",
       " 'Warangal Rural',\n",
       " 'West Karbi Anglong',\n",
       " 'West Singhbhum',\n",
       " 'Yadadri Bhuvanagiri']"
      ]
     },
     "execution_count": 174,
     "metadata": {},
     "output_type": "execute_result"
    }
   ],
   "source": [
    "lic5.sort()\n",
    "lic5"
   ]
  },
  {
   "cell_type": "code",
   "execution_count": 69,
   "id": "6b295d2b",
   "metadata": {},
   "outputs": [
    {
     "data": {
      "text/plain": [
       "123"
      ]
     },
     "execution_count": 69,
     "metadata": {},
     "output_type": "execute_result"
    }
   ],
   "source": [
    "len(lic5)"
   ]
  },
  {
   "cell_type": "code",
   "execution_count": 176,
   "id": "767bbac8",
   "metadata": {},
   "outputs": [],
   "source": [
    "lic1 = list(dfc3['Name'])\n",
    "lic2 = list(dfvc['District'])\n",
    "lic3 = [i for i in lic1 if i in lic2]"
   ]
  },
  {
   "cell_type": "code",
   "execution_count": 177,
   "id": "0a74b7f4",
   "metadata": {},
   "outputs": [
    {
     "data": {
      "text/plain": [
       "633"
      ]
     },
     "execution_count": 177,
     "metadata": {},
     "output_type": "execute_result"
    }
   ],
   "source": [
    "len(lic3)"
   ]
  },
  {
   "cell_type": "code",
   "execution_count": 178,
   "id": "9eb62457",
   "metadata": {},
   "outputs": [],
   "source": [
    "# importing diff.xlsc file for spelling modification ( manually prepared)\n",
    "diff =  pd.read_excel (r'C:\\Users\\Alok Trivedy\\dm assign\\difference district.xlsx', sheet_name='Sheet1')\n",
    "diff= diff.drop('Unnamed: 2',axis=1)\n",
    "arr1 = list(diff['neighbor json'])\n",
    "arr2 = list(diff['districtwise'])"
   ]
  },
  {
   "cell_type": "code",
   "execution_count": 179,
   "id": "6d4f551a",
   "metadata": {},
   "outputs": [],
   "source": [
    "for i in range(len(arr1)):\n",
    "    arr = arr1[i].rsplit(' ')\n",
    "    s = ''\n",
    "    if(len(arr)==1):\n",
    "        s = arr[0].capitalize()\n",
    "    else:\n",
    "        for k in range(len(arr)-1):\n",
    "            s = s+ arr[k].capitalize() + ' '\n",
    "            s = s+arr[len(arr)-1].capitalize()\n",
    "    arr1[i] = s\n",
    "for i in range(len(arr2)):\n",
    "    arr = arr2[i].rsplit(' ')\n",
    "    s = ''\n",
    "    if(len(arr)==1):\n",
    "        s = arr[0].capitalize()\n",
    "    else:\n",
    "        for k in range(len(arr)-1):\n",
    "            s = s+ arr[k].capitalize() + ' '\n",
    "            s = s+arr[len(arr)-1].capitalize()\n",
    "    arr2[i] = s"
   ]
  },
  {
   "cell_type": "code",
   "execution_count": 180,
   "id": "3a17e6ef",
   "metadata": {},
   "outputs": [],
   "source": [
    "for i in range(len(arr1)):\n",
    "    if(ord(arr1[i][0]) == 32):\n",
    "        s = arr1[i][1:]\n",
    "        arr1[i] = s\n",
    "for i in range(len(arr2)):\n",
    "    if(ord(arr2[i][0]) == 32):\n",
    "        s = arr2[i][1:]\n",
    "        arr2[i] = s"
   ]
  },
  {
   "cell_type": "code",
   "execution_count": 181,
   "id": "a191644e",
   "metadata": {},
   "outputs": [
    {
     "name": "stdout",
     "output_type": "stream",
     "text": [
      "Rangareddy\n",
      "Tumkur\n"
     ]
    }
   ],
   "source": [
    "for i in range(len(lic4)):\n",
    "    for j in range(len(arr1)):\n",
    "        if(lic4[i] == arr1[j]):\n",
    "            print(lic4[i])\n",
    "            indexname = dfc3[dfc3['Name'] == lic4[i]].index\n",
    "            dfc3.loc[indexname,'Name'] = arr2[j]"
   ]
  },
  {
   "cell_type": "code",
   "execution_count": 182,
   "id": "9404c06d",
   "metadata": {},
   "outputs": [],
   "source": [
    "lic1 = list(dfc3['Name'])\n",
    "lic2 = list(dfvc['District'])\n",
    "lic3 = [i for i in lic1 if i in lic2]"
   ]
  },
  {
   "cell_type": "code",
   "execution_count": 183,
   "id": "da6903ef",
   "metadata": {},
   "outputs": [
    {
     "data": {
      "text/plain": [
       "['Pashchimi Singhbhum',\n",
       " 'Mumbai Suburban',\n",
       " 'Barabank',\n",
       " 'Barddhaman',\n",
       " 'Mewat',\n",
       " 'Gulbarga']"
      ]
     },
     "execution_count": 183,
     "metadata": {},
     "output_type": "execute_result"
    }
   ],
   "source": [
    "lic4 = list(set(lic1) - set(lic3))\n",
    "lic4"
   ]
  },
  {
   "cell_type": "code",
   "execution_count": 184,
   "id": "8a9667a6",
   "metadata": {},
   "outputs": [],
   "source": [
    "df1 = dfc3\n",
    "for i in lic4:\n",
    "    indexname = df1[df1['Name'] == i ].index\n",
    "    df1 =  df1.drop(indexname )\n",
    "    "
   ]
  },
  {
   "cell_type": "code",
   "execution_count": 185,
   "id": "42b702e6",
   "metadata": {},
   "outputs": [
    {
     "data": {
      "text/plain": [
       "628"
      ]
     },
     "execution_count": 185,
     "metadata": {},
     "output_type": "execute_result"
    }
   ],
   "source": [
    "len(df1.Name.unique())"
   ]
  },
  {
   "cell_type": "code",
   "execution_count": 186,
   "id": "6d74ceeb",
   "metadata": {},
   "outputs": [],
   "source": [
    "dfvc1 = dfvc\n",
    "for j in lic5:\n",
    "    indexname = dfvc1[dfvc1['District'] == j ].index\n",
    "    dfvc1 =  dfvc1.drop(indexname )"
   ]
  },
  {
   "cell_type": "code",
   "execution_count": 187,
   "id": "ebe1dd32",
   "metadata": {},
   "outputs": [],
   "source": [
    "dfvc1 = dfvc1.loc[1:,:]"
   ]
  },
  {
   "cell_type": "code",
   "execution_count": 188,
   "id": "579af236",
   "metadata": {},
   "outputs": [
    {
     "data": {
      "text/html": [
       "<div>\n",
       "<style scoped>\n",
       "    .dataframe tbody tr th:only-of-type {\n",
       "        vertical-align: middle;\n",
       "    }\n",
       "\n",
       "    .dataframe tbody tr th {\n",
       "        vertical-align: top;\n",
       "    }\n",
       "\n",
       "    .dataframe thead th {\n",
       "        text-align: right;\n",
       "    }\n",
       "</style>\n",
       "<table border=\"1\" class=\"dataframe\">\n",
       "  <thead>\n",
       "    <tr style=\"text-align: right;\">\n",
       "      <th></th>\n",
       "      <th>District_Key</th>\n",
       "      <th>District</th>\n",
       "      <th>14/08/2021.3</th>\n",
       "      <th>14/08/2021.4</th>\n",
       "    </tr>\n",
       "  </thead>\n",
       "  <tbody>\n",
       "    <tr>\n",
       "      <th>2</th>\n",
       "      <td>AN_North and Middle Andaman</td>\n",
       "      <td>North and Middle Andaman</td>\n",
       "      <td>68043</td>\n",
       "      <td>29281</td>\n",
       "    </tr>\n",
       "    <tr>\n",
       "      <th>3</th>\n",
       "      <td>AN_South Andaman</td>\n",
       "      <td>South Andaman</td>\n",
       "      <td>142585</td>\n",
       "      <td>59896</td>\n",
       "    </tr>\n",
       "    <tr>\n",
       "      <th>4</th>\n",
       "      <td>AP_Anantapur</td>\n",
       "      <td>Anantapur</td>\n",
       "      <td>1364374</td>\n",
       "      <td>597346</td>\n",
       "    </tr>\n",
       "    <tr>\n",
       "      <th>5</th>\n",
       "      <td>AP_Chittoor</td>\n",
       "      <td>Chittoor</td>\n",
       "      <td>1565591</td>\n",
       "      <td>640864</td>\n",
       "    </tr>\n",
       "    <tr>\n",
       "      <th>6</th>\n",
       "      <td>AP_East Godavari</td>\n",
       "      <td>East Godavari</td>\n",
       "      <td>1927490</td>\n",
       "      <td>552473</td>\n",
       "    </tr>\n",
       "  </tbody>\n",
       "</table>\n",
       "</div>"
      ],
      "text/plain": [
       "                  District_Key                  District 14/08/2021.3  \\\n",
       "2  AN_North and Middle Andaman  North and Middle Andaman        68043   \n",
       "3             AN_South Andaman             South Andaman       142585   \n",
       "4                 AP_Anantapur                 Anantapur      1364374   \n",
       "5                  AP_Chittoor                  Chittoor      1565591   \n",
       "6             AP_East Godavari             East Godavari      1927490   \n",
       "\n",
       "  14/08/2021.4  \n",
       "2        29281  \n",
       "3        59896  \n",
       "4       597346  \n",
       "5       640864  \n",
       "6       552473  "
      ]
     },
     "execution_count": 188,
     "metadata": {},
     "output_type": "execute_result"
    }
   ],
   "source": [
    "dfvc1.head()"
   ]
  },
  {
   "cell_type": "code",
   "execution_count": null,
   "id": "b7f0dad1",
   "metadata": {},
   "outputs": [],
   "source": []
  },
  {
   "cell_type": "code",
   "execution_count": null,
   "id": "d57b6ed4",
   "metadata": {},
   "outputs": [],
   "source": []
  },
  {
   "cell_type": "code",
   "execution_count": null,
   "id": "8d339b04",
   "metadata": {},
   "outputs": [],
   "source": []
  },
  {
   "cell_type": "code",
   "execution_count": null,
   "id": "c71b16bf",
   "metadata": {},
   "outputs": [],
   "source": []
  },
  {
   "cell_type": "code",
   "execution_count": null,
   "id": "20a0cb3b",
   "metadata": {},
   "outputs": [],
   "source": []
  },
  {
   "cell_type": "code",
   "execution_count": null,
   "id": "c0df0ed7",
   "metadata": {},
   "outputs": [],
   "source": []
  },
  {
   "cell_type": "code",
   "execution_count": null,
   "id": "5f386a2e",
   "metadata": {},
   "outputs": [],
   "source": []
  },
  {
   "cell_type": "code",
   "execution_count": null,
   "id": "bcac7acc",
   "metadata": {},
   "outputs": [],
   "source": []
  },
  {
   "cell_type": "code",
   "execution_count": null,
   "id": "3d83521a",
   "metadata": {},
   "outputs": [],
   "source": []
  },
  {
   "cell_type": "code",
   "execution_count": 189,
   "id": "ec14eb3f",
   "metadata": {},
   "outputs": [
    {
     "data": {
      "text/html": [
       "<div>\n",
       "<style scoped>\n",
       "    .dataframe tbody tr th:only-of-type {\n",
       "        vertical-align: middle;\n",
       "    }\n",
       "\n",
       "    .dataframe tbody tr th {\n",
       "        vertical-align: top;\n",
       "    }\n",
       "\n",
       "    .dataframe thead th {\n",
       "        text-align: right;\n",
       "    }\n",
       "</style>\n",
       "<table border=\"1\" class=\"dataframe\">\n",
       "  <thead>\n",
       "    <tr style=\"text-align: right;\">\n",
       "      <th></th>\n",
       "      <th>Name</th>\n",
       "      <th>TOT_P</th>\n",
       "    </tr>\n",
       "  </thead>\n",
       "  <tbody>\n",
       "    <tr>\n",
       "      <th>6</th>\n",
       "      <td>Kupwara</td>\n",
       "      <td>870354</td>\n",
       "    </tr>\n",
       "    <tr>\n",
       "      <th>9</th>\n",
       "      <td>Budgam</td>\n",
       "      <td>753745</td>\n",
       "    </tr>\n",
       "    <tr>\n",
       "      <th>12</th>\n",
       "      <td>Leh</td>\n",
       "      <td>133487</td>\n",
       "    </tr>\n",
       "    <tr>\n",
       "      <th>15</th>\n",
       "      <td>Kargil</td>\n",
       "      <td>140802</td>\n",
       "    </tr>\n",
       "    <tr>\n",
       "      <th>18</th>\n",
       "      <td>Punch</td>\n",
       "      <td>476835</td>\n",
       "    </tr>\n",
       "  </tbody>\n",
       "</table>\n",
       "</div>"
      ],
      "text/plain": [
       "       Name   TOT_P\n",
       "6   Kupwara  870354\n",
       "9    Budgam  753745\n",
       "12      Leh  133487\n",
       "15   Kargil  140802\n",
       "18    Punch  476835"
      ]
     },
     "execution_count": 189,
     "metadata": {},
     "output_type": "execute_result"
    }
   ],
   "source": [
    "df1.head()"
   ]
  },
  {
   "cell_type": "code",
   "execution_count": 190,
   "id": "ce4e32d7",
   "metadata": {},
   "outputs": [],
   "source": [
    "dfvc1.rename(columns = {'14/08/2021.3':'f_dose','14/08/2021.4':'s_dose'}, inplace = True)"
   ]
  },
  {
   "cell_type": "code",
   "execution_count": 191,
   "id": "1165eb11",
   "metadata": {},
   "outputs": [],
   "source": [
    "dfvc1['vaccinateddose1ratio'] = 0\n",
    "dfvc1['vaccinateddose2ratio'] = 0\n",
    "dfvc1['population'] = 0"
   ]
  },
  {
   "cell_type": "code",
   "execution_count": 192,
   "id": "1f2a8698",
   "metadata": {},
   "outputs": [
    {
     "data": {
      "text/html": [
       "<div>\n",
       "<style scoped>\n",
       "    .dataframe tbody tr th:only-of-type {\n",
       "        vertical-align: middle;\n",
       "    }\n",
       "\n",
       "    .dataframe tbody tr th {\n",
       "        vertical-align: top;\n",
       "    }\n",
       "\n",
       "    .dataframe thead th {\n",
       "        text-align: right;\n",
       "    }\n",
       "</style>\n",
       "<table border=\"1\" class=\"dataframe\">\n",
       "  <thead>\n",
       "    <tr style=\"text-align: right;\">\n",
       "      <th></th>\n",
       "      <th>District_Key</th>\n",
       "      <th>District</th>\n",
       "      <th>f_dose</th>\n",
       "      <th>s_dose</th>\n",
       "      <th>vaccinateddose1ratio</th>\n",
       "      <th>vaccinateddose2ratio</th>\n",
       "      <th>population</th>\n",
       "    </tr>\n",
       "  </thead>\n",
       "  <tbody>\n",
       "    <tr>\n",
       "      <th>2</th>\n",
       "      <td>AN_North and Middle Andaman</td>\n",
       "      <td>North and Middle Andaman</td>\n",
       "      <td>68043</td>\n",
       "      <td>29281</td>\n",
       "      <td>0</td>\n",
       "      <td>0</td>\n",
       "      <td>0</td>\n",
       "    </tr>\n",
       "    <tr>\n",
       "      <th>3</th>\n",
       "      <td>AN_South Andaman</td>\n",
       "      <td>South Andaman</td>\n",
       "      <td>142585</td>\n",
       "      <td>59896</td>\n",
       "      <td>0</td>\n",
       "      <td>0</td>\n",
       "      <td>0</td>\n",
       "    </tr>\n",
       "    <tr>\n",
       "      <th>4</th>\n",
       "      <td>AP_Anantapur</td>\n",
       "      <td>Anantapur</td>\n",
       "      <td>1364374</td>\n",
       "      <td>597346</td>\n",
       "      <td>0</td>\n",
       "      <td>0</td>\n",
       "      <td>0</td>\n",
       "    </tr>\n",
       "    <tr>\n",
       "      <th>5</th>\n",
       "      <td>AP_Chittoor</td>\n",
       "      <td>Chittoor</td>\n",
       "      <td>1565591</td>\n",
       "      <td>640864</td>\n",
       "      <td>0</td>\n",
       "      <td>0</td>\n",
       "      <td>0</td>\n",
       "    </tr>\n",
       "    <tr>\n",
       "      <th>6</th>\n",
       "      <td>AP_East Godavari</td>\n",
       "      <td>East Godavari</td>\n",
       "      <td>1927490</td>\n",
       "      <td>552473</td>\n",
       "      <td>0</td>\n",
       "      <td>0</td>\n",
       "      <td>0</td>\n",
       "    </tr>\n",
       "  </tbody>\n",
       "</table>\n",
       "</div>"
      ],
      "text/plain": [
       "                  District_Key                  District   f_dose  s_dose  \\\n",
       "2  AN_North and Middle Andaman  North and Middle Andaman    68043   29281   \n",
       "3             AN_South Andaman             South Andaman   142585   59896   \n",
       "4                 AP_Anantapur                 Anantapur  1364374  597346   \n",
       "5                  AP_Chittoor                  Chittoor  1565591  640864   \n",
       "6             AP_East Godavari             East Godavari  1927490  552473   \n",
       "\n",
       "   vaccinateddose1ratio  vaccinateddose2ratio  population  \n",
       "2                     0                     0           0  \n",
       "3                     0                     0           0  \n",
       "4                     0                     0           0  \n",
       "5                     0                     0           0  \n",
       "6                     0                     0           0  "
      ]
     },
     "execution_count": 192,
     "metadata": {},
     "output_type": "execute_result"
    }
   ],
   "source": [
    "dfvc1.head()"
   ]
  },
  {
   "cell_type": "code",
   "execution_count": 193,
   "id": "49e0a87a",
   "metadata": {},
   "outputs": [],
   "source": [
    "for i in dfvc1.District.unique():\n",
    "    indexname  = df1[df1['Name'] == i].index\n",
    "    indexname2 = dfvc1[dfvc1['District'] == i].index \n",
    "    x = df1.loc[indexname,'TOT_P'].values\n",
    "    x = x[0]\n",
    "    dfvc1.loc[indexname2 , 'population'] = x"
   ]
  },
  {
   "cell_type": "code",
   "execution_count": 194,
   "id": "f9e8bb56",
   "metadata": {},
   "outputs": [],
   "source": [
    "dfvc1['f_dose']= pd.to_numeric(dfvc1['f_dose'], errors ='ignore')\n",
    "dfvc1['s_dose']= pd.to_numeric(dfvc1['s_dose'], errors ='ignore')\n",
    "dfvc1['population']= pd.to_numeric(dfvc1['population'], errors ='ignore')"
   ]
  },
  {
   "cell_type": "code",
   "execution_count": 195,
   "id": "4a04b369",
   "metadata": {},
   "outputs": [],
   "source": [
    "dfvc1['vaccinateddose1ratio'] = dfvc1['f_dose']/dfvc1['population']\n",
    "dfvc1['vaccinateddose2ratio'] = dfvc1['s_dose']/dfvc1['population']"
   ]
  },
  {
   "cell_type": "code",
   "execution_count": 196,
   "id": "672ae7e3",
   "metadata": {},
   "outputs": [
    {
     "data": {
      "text/html": [
       "<div>\n",
       "<style scoped>\n",
       "    .dataframe tbody tr th:only-of-type {\n",
       "        vertical-align: middle;\n",
       "    }\n",
       "\n",
       "    .dataframe tbody tr th {\n",
       "        vertical-align: top;\n",
       "    }\n",
       "\n",
       "    .dataframe thead th {\n",
       "        text-align: right;\n",
       "    }\n",
       "</style>\n",
       "<table border=\"1\" class=\"dataframe\">\n",
       "  <thead>\n",
       "    <tr style=\"text-align: right;\">\n",
       "      <th></th>\n",
       "      <th>District_Key</th>\n",
       "      <th>District</th>\n",
       "      <th>f_dose</th>\n",
       "      <th>s_dose</th>\n",
       "      <th>vaccinateddose1ratio</th>\n",
       "      <th>vaccinateddose2ratio</th>\n",
       "      <th>population</th>\n",
       "    </tr>\n",
       "  </thead>\n",
       "  <tbody>\n",
       "    <tr>\n",
       "      <th>2</th>\n",
       "      <td>AN_North and Middle Andaman</td>\n",
       "      <td>North and Middle Andaman</td>\n",
       "      <td>68043</td>\n",
       "      <td>29281</td>\n",
       "      <td>0.644365</td>\n",
       "      <td>0.277290</td>\n",
       "      <td>105597</td>\n",
       "    </tr>\n",
       "    <tr>\n",
       "      <th>3</th>\n",
       "      <td>AN_South Andaman</td>\n",
       "      <td>South Andaman</td>\n",
       "      <td>142585</td>\n",
       "      <td>59896</td>\n",
       "      <td>0.598739</td>\n",
       "      <td>0.251514</td>\n",
       "      <td>238142</td>\n",
       "    </tr>\n",
       "    <tr>\n",
       "      <th>4</th>\n",
       "      <td>AP_Anantapur</td>\n",
       "      <td>Anantapur</td>\n",
       "      <td>1364374</td>\n",
       "      <td>597346</td>\n",
       "      <td>0.334311</td>\n",
       "      <td>0.146367</td>\n",
       "      <td>4081148</td>\n",
       "    </tr>\n",
       "    <tr>\n",
       "      <th>5</th>\n",
       "      <td>AP_Chittoor</td>\n",
       "      <td>Chittoor</td>\n",
       "      <td>1565591</td>\n",
       "      <td>640864</td>\n",
       "      <td>0.375076</td>\n",
       "      <td>0.153535</td>\n",
       "      <td>4174064</td>\n",
       "    </tr>\n",
       "    <tr>\n",
       "      <th>6</th>\n",
       "      <td>AP_East Godavari</td>\n",
       "      <td>East Godavari</td>\n",
       "      <td>1927490</td>\n",
       "      <td>552473</td>\n",
       "      <td>0.373958</td>\n",
       "      <td>0.107187</td>\n",
       "      <td>5154296</td>\n",
       "    </tr>\n",
       "  </tbody>\n",
       "</table>\n",
       "</div>"
      ],
      "text/plain": [
       "                  District_Key                  District   f_dose  s_dose  \\\n",
       "2  AN_North and Middle Andaman  North and Middle Andaman    68043   29281   \n",
       "3             AN_South Andaman             South Andaman   142585   59896   \n",
       "4                 AP_Anantapur                 Anantapur  1364374  597346   \n",
       "5                  AP_Chittoor                  Chittoor  1565591  640864   \n",
       "6             AP_East Godavari             East Godavari  1927490  552473   \n",
       "\n",
       "   vaccinateddose1ratio  vaccinateddose2ratio  population  \n",
       "2              0.644365              0.277290      105597  \n",
       "3              0.598739              0.251514      238142  \n",
       "4              0.334311              0.146367     4081148  \n",
       "5              0.375076              0.153535     4174064  \n",
       "6              0.373958              0.107187     5154296  "
      ]
     },
     "execution_count": 196,
     "metadata": {},
     "output_type": "execute_result"
    }
   ],
   "source": [
    "dfvc1.head()"
   ]
  },
  {
   "cell_type": "code",
   "execution_count": 197,
   "id": "cbe16cc1",
   "metadata": {},
   "outputs": [],
   "source": [
    "dfvc1 = dfvc1.loc[:,['District_Key','vaccinateddose1ratio','vaccinateddose2ratio']]"
   ]
  },
  {
   "cell_type": "code",
   "execution_count": 198,
   "id": "3af63d76",
   "metadata": {},
   "outputs": [],
   "source": [
    "dfvc1.sort_values('vaccinateddose1ratio',inplace=True)"
   ]
  },
  {
   "cell_type": "code",
   "execution_count": 199,
   "id": "9bc5831d",
   "metadata": {},
   "outputs": [],
   "source": [
    "dfvc1.to_csv('district-vaccinated-dose-ratio.csv', index=False)"
   ]
  },
  {
   "cell_type": "code",
   "execution_count": 200,
   "id": "7a8312a0",
   "metadata": {},
   "outputs": [],
   "source": [
    "dfind.to_csv('overall-vaccination-dose-ratio.csv', index=False)"
   ]
  },
  {
   "cell_type": "code",
   "execution_count": 201,
   "id": "cc49c0b9",
   "metadata": {},
   "outputs": [],
   "source": [
    "dfst.sort_values('vaccinateddose1ratio',inplace=True)"
   ]
  },
  {
   "cell_type": "code",
   "execution_count": 202,
   "id": "a00bca74",
   "metadata": {},
   "outputs": [],
   "source": [
    "dfst.to_csv('state-vaccination-dose-ratio.csv', index=False)"
   ]
  },
  {
   "cell_type": "code",
   "execution_count": null,
   "id": "71128f20",
   "metadata": {},
   "outputs": [],
   "source": []
  },
  {
   "cell_type": "code",
   "execution_count": null,
   "id": "1b15917c",
   "metadata": {},
   "outputs": [],
   "source": []
  },
  {
   "cell_type": "code",
   "execution_count": null,
   "id": "0975edaf",
   "metadata": {},
   "outputs": [],
   "source": []
  },
  {
   "cell_type": "code",
   "execution_count": 52,
   "id": "3cbc2c34",
   "metadata": {},
   "outputs": [],
   "source": []
  },
  {
   "cell_type": "code",
   "execution_count": 63,
   "id": "3d42e72f",
   "metadata": {},
   "outputs": [],
   "source": []
  },
  {
   "cell_type": "code",
   "execution_count": null,
   "id": "8e19a9e8",
   "metadata": {},
   "outputs": [],
   "source": []
  },
  {
   "cell_type": "code",
   "execution_count": 105,
   "id": "27f510b5",
   "metadata": {},
   "outputs": [],
   "source": []
  },
  {
   "cell_type": "code",
   "execution_count": null,
   "id": "3860e02f",
   "metadata": {},
   "outputs": [],
   "source": []
  },
  {
   "cell_type": "code",
   "execution_count": 64,
   "id": "6957ee88",
   "metadata": {},
   "outputs": [],
   "source": []
  },
  {
   "cell_type": "code",
   "execution_count": null,
   "id": "7b0429ac",
   "metadata": {},
   "outputs": [],
   "source": []
  }
 ],
 "metadata": {
  "kernelspec": {
   "display_name": "Python 3",
   "language": "python",
   "name": "python3"
  },
  "language_info": {
   "codemirror_mode": {
    "name": "ipython",
    "version": 3
   },
   "file_extension": ".py",
   "mimetype": "text/x-python",
   "name": "python",
   "nbconvert_exporter": "python",
   "pygments_lexer": "ipython3",
   "version": "3.8.8"
  }
 },
 "nbformat": 4,
 "nbformat_minor": 5
}
