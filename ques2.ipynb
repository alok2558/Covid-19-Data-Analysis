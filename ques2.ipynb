{
 "cells": [
  {
   "cell_type": "code",
   "execution_count": 1,
   "id": "c2b3e89b",
   "metadata": {},
   "outputs": [],
   "source": [
    "import pandas as pd\n",
    "import numpy as np"
   ]
  },
  {
   "cell_type": "code",
   "execution_count": 2,
   "id": "fb157cbd",
   "metadata": {},
   "outputs": [],
   "source": [
    "import json\n",
    "\n",
    "with open(r'C:\\Users\\Alok Trivedy\\dat.json') as f:\n",
    "    data = json.load(f)"
   ]
  },
  {
   "cell_type": "code",
   "execution_count": 3,
   "id": "0915eef7",
   "metadata": {},
   "outputs": [],
   "source": [
    "lis = list(data.keys())"
   ]
  },
  {
   "cell_type": "code",
   "execution_count": 4,
   "id": "b1fd7866",
   "metadata": {},
   "outputs": [],
   "source": [
    "neighbour = []\n",
    "for i in lis:\n",
    "    for j in data[i]:\n",
    "        temp = [] \n",
    "        temp.append(i)\n",
    "        temp.append(j)\n",
    "        neighbour.append(temp)"
   ]
  },
  {
   "cell_type": "code",
   "execution_count": 5,
   "id": "c1932697",
   "metadata": {},
   "outputs": [
    {
     "data": {
      "text/plain": [
       "3902"
      ]
     },
     "execution_count": 5,
     "metadata": {},
     "output_type": "execute_result"
    }
   ],
   "source": [
    "len(neighbour)"
   ]
  },
  {
   "cell_type": "code",
   "execution_count": 6,
   "id": "4269977c",
   "metadata": {},
   "outputs": [
    {
     "data": {
      "text/plain": [
       "[['HP_Kinnaur', 'kullu'],\n",
       " ['HP_Kinnaur', 'lahul_and_spiti'],\n",
       " ['HP_Kinnaur', 'uttarkashi'],\n",
       " ['HP_Kinnaur', 'shimla'],\n",
       " ['HP_Kullu', 'shimla'],\n",
       " ['HP_Kullu', 'lahul_and_spiti'],\n",
       " ['HP_Kullu', 'kinnaur'],\n",
       " ['HP_Kullu', 'kangra'],\n",
       " ['HP_Kullu', 'mandi'],\n",
       " ['HP_Chamba', 'lahul_and_spiti'],\n",
       " ['HP_Chamba', 'kangra'],\n",
       " ['HP_Chamba', 'kishtwar'],\n",
       " ['HP_Chamba', 'pathankot']]"
      ]
     },
     "execution_count": 6,
     "metadata": {},
     "output_type": "execute_result"
    }
   ],
   "source": [
    "neighbour[:13]"
   ]
  },
  {
   "cell_type": "code",
   "execution_count": 7,
   "id": "7d216c72",
   "metadata": {},
   "outputs": [],
   "source": [
    "neighbour = pd.DataFrame(neighbour)"
   ]
  },
  {
   "cell_type": "code",
   "execution_count": 9,
   "id": "248851b1",
   "metadata": {},
   "outputs": [
    {
     "data": {
      "text/plain": [
       "(3902, 2)"
      ]
     },
     "execution_count": 9,
     "metadata": {},
     "output_type": "execute_result"
    }
   ],
   "source": [
    "neighbour.shape"
   ]
  },
  {
   "cell_type": "code",
   "execution_count": 10,
   "id": "c697ea3f",
   "metadata": {},
   "outputs": [],
   "source": [
    "neighbour.to_csv('edge-graph.csv', index=False)"
   ]
  },
  {
   "cell_type": "code",
   "execution_count": null,
   "id": "d7f11fc1",
   "metadata": {},
   "outputs": [],
   "source": []
  }
 ],
 "metadata": {
  "kernelspec": {
   "display_name": "Python 3",
   "language": "python",
   "name": "python3"
  },
  "language_info": {
   "codemirror_mode": {
    "name": "ipython",
    "version": 3
   },
   "file_extension": ".py",
   "mimetype": "text/x-python",
   "name": "python",
   "nbconvert_exporter": "python",
   "pygments_lexer": "ipython3",
   "version": "3.8.8"
  }
 },
 "nbformat": 4,
 "nbformat_minor": 5
}
